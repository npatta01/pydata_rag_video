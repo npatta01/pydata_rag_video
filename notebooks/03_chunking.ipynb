{
 "cells": [
  {
   "cell_type": "markdown",
   "id": "ed3dd436-9a17-4607-bc89-cfa2271aa2b5",
   "metadata": {},
   "source": [
    "# Notebook : Chunking\n"
   ]
  },
  {
   "cell_type": "code",
   "execution_count": null,
   "id": "3958d79a-f6ff-49a8-ac76-0c2efc197720",
   "metadata": {},
   "outputs": [],
   "source": []
  },
  {
   "cell_type": "markdown",
   "id": "e127b96f-0cd4-4131-998d-082186e90379",
   "metadata": {},
   "source": [
    "## About"
   ]
  },
  {
   "cell_type": "markdown",
   "id": "458f615c-8456-4771-a0f6-2c44ee4343ba",
   "metadata": {},
   "source": [
    "In this notebook, we will explore how to to break the text into manageable chunks using different strategy.\n",
    "\n",
    "- Fixed Character / Token Length\n",
    "- Recursive Character Chunking\n",
    "- Document Specific Chunking ( PDF, Markdown, HTML, Code)\n",
    "- Semantic Chunking\n"
   ]
  },
  {
   "cell_type": "code",
   "execution_count": null,
   "id": "d9b19bc1-992a-446e-9fc6-9b9d2f205aac",
   "metadata": {},
   "outputs": [],
   "source": []
  },
  {
   "cell_type": "code",
   "execution_count": 1,
   "id": "4ee158c8-fc1c-4771-b2bc-d0afa8960440",
   "metadata": {
    "tags": []
   },
   "outputs": [],
   "source": [
    "import rich\n",
    "from IPython.display import Image\n"
   ]
  },
  {
   "cell_type": "markdown",
   "id": "6419f4aa-5d66-4114-bfb0-3cc28440f4b5",
   "metadata": {},
   "source": [
    "## Sample Transcript"
   ]
  },
  {
   "cell_type": "code",
   "execution_count": 2,
   "id": "0d8003cf-c461-47b0-8f71-86251b29492c",
   "metadata": {
    "tags": []
   },
   "outputs": [],
   "source": [
    "transcript = f\"\"\"\n",
    "\n",
    "New York City has some absolutely iconic food and today that's all I'm going to be eating.\n",
    "We'll show you New York's best bagels hot dogs Pastrami and more.  \n",
    "Get ready for the ultimate NYC food tour and this video is filmed in order so you can literally turn this into a bucket list New York City Food Adventure. \n",
    "\"\"\""
   ]
  },
  {
   "cell_type": "code",
   "execution_count": 3,
   "id": "8f72d66f-9256-4437-80ce-bd3ac8551989",
   "metadata": {
    "tags": []
   },
   "outputs": [
    {
     "name": "stdout",
     "output_type": "stream",
     "text": [
      "\n",
      "\n",
      "New York City has some absolutely iconic food and today that's all I'm going to be eating.\n",
      "We'll show you New York's best bagels hot dogs Pastrami and more.  \n",
      "Get ready for the ultimate NYC food tour and this video is filmed in order so you can literally turn this into a bucket list New York City Food Adventure. \n",
      "\n"
     ]
    }
   ],
   "source": [
    "print (transcript)"
   ]
  },
  {
   "cell_type": "code",
   "execution_count": null,
   "id": "ef72a9fd-c773-4fd7-92d0-9b9f1b8fc468",
   "metadata": {},
   "outputs": [],
   "source": []
  },
  {
   "cell_type": "code",
   "execution_count": null,
   "id": "7bec1715-2c7b-43f5-a99d-be4ed152cc58",
   "metadata": {},
   "outputs": [],
   "source": []
  },
  {
   "cell_type": "markdown",
   "id": "af1a4303-8c46-4955-938a-6f30a7ed1a8e",
   "metadata": {},
   "source": [
    "## Token"
   ]
  },
  {
   "cell_type": "markdown",
   "id": "c2f4d13f-3413-4da9-8a4a-3e480cb5275b",
   "metadata": {},
   "source": [
    "By default, LlamaIndex uses a global tokenizer for all token counting. \n",
    "\n",
    "This defaults to `cl100k` from tiktoken, which is the tokenizer to match the default LLM gpt-3.5-turbo."
   ]
  },
  {
   "cell_type": "code",
   "execution_count": 4,
   "id": "a1ef8b15-ab70-4ec0-b27f-f4c935daddc2",
   "metadata": {
    "tags": []
   },
   "outputs": [],
   "source": [
    "import tiktoken"
   ]
  },
  {
   "cell_type": "code",
   "execution_count": 5,
   "id": "3f69ff4f-6d5c-49ba-9244-e84e1b395774",
   "metadata": {
    "tags": []
   },
   "outputs": [
    {
     "data": {
      "text/plain": [
       "<Encoding 'o200k_base'>"
      ]
     },
     "execution_count": 5,
     "metadata": {},
     "output_type": "execute_result"
    }
   ],
   "source": [
    "encoding_gpt4 = tiktoken.encoding_for_model(\"gpt-4o-mini\")\n",
    "encoding_gpt4"
   ]
  },
  {
   "cell_type": "code",
   "execution_count": null,
   "id": "c867c175-5e2c-4819-8ee0-1971b1fd2a09",
   "metadata": {
    "tags": []
   },
   "outputs": [],
   "source": []
  },
  {
   "cell_type": "code",
   "execution_count": 6,
   "id": "249467c5-6cc3-45fa-b164-4cfbb29dbd2b",
   "metadata": {
    "tags": []
   },
   "outputs": [
    {
     "data": {
      "text/plain": [
       "<Encoding 'cl100k_base'>"
      ]
     },
     "execution_count": 6,
     "metadata": {},
     "output_type": "execute_result"
    }
   ],
   "source": [
    "encoding_gpt3 = tiktoken.encoding_for_model(\"gpt-3.5-turbo\")\n",
    "encoding_gpt3"
   ]
  },
  {
   "cell_type": "code",
   "execution_count": 7,
   "id": "cbc17e94-67eb-4567-89ed-d88b9814e4f6",
   "metadata": {
    "tags": []
   },
   "outputs": [],
   "source": [
    "sample_sentence = \"Artificial intelligence is transforming industries. Neuroplasticity and adaptability\"\n"
   ]
  },
  {
   "cell_type": "code",
   "execution_count": 8,
   "id": "ce94cb7b-9243-47ec-9fc1-e24137d6a1d7",
   "metadata": {
    "tags": []
   },
   "outputs": [
    {
     "data": {
      "text/html": [
       "<pre style=\"white-space:pre;overflow-x:auto;line-height:normal;font-family:Menlo,'DejaVu Sans Mono',consolas,'Courier New',monospace\">tokens:\n",
       "<span style=\"font-weight: bold\">[</span><span style=\"color: #008080; text-decoration-color: #008080; font-weight: bold\">9470</span>, <span style=\"color: #008080; text-decoration-color: #008080; font-weight: bold\">16895</span>, <span style=\"color: #008080; text-decoration-color: #008080; font-weight: bold\">11478</span>, <span style=\"color: #008080; text-decoration-color: #008080; font-weight: bold\">374</span>, <span style=\"color: #008080; text-decoration-color: #008080; font-weight: bold\">46890</span>, <span style=\"color: #008080; text-decoration-color: #008080; font-weight: bold\">19647</span>, <span style=\"color: #008080; text-decoration-color: #008080; font-weight: bold\">13</span>, <span style=\"color: #008080; text-decoration-color: #008080; font-weight: bold\">32359</span>, <span style=\"color: #008080; text-decoration-color: #008080; font-weight: bold\">501</span>, <span style=\"color: #008080; text-decoration-color: #008080; font-weight: bold\">5174</span>, <span style=\"color: #008080; text-decoration-color: #008080; font-weight: bold\">488</span>, <span style=\"color: #008080; text-decoration-color: #008080; font-weight: bold\">323</span>, <span style=\"color: #008080; text-decoration-color: #008080; font-weight: bold\">10737</span>, <span style=\"color: #008080; text-decoration-color: #008080; font-weight: bold\">2968</span><span style=\"font-weight: bold\">]</span>\n",
       "</pre>\n"
      ],
      "text/plain": [
       "tokens:\n",
       "\u001b[1m[\u001b[0m\u001b[1;36m9470\u001b[0m, \u001b[1;36m16895\u001b[0m, \u001b[1;36m11478\u001b[0m, \u001b[1;36m374\u001b[0m, \u001b[1;36m46890\u001b[0m, \u001b[1;36m19647\u001b[0m, \u001b[1;36m13\u001b[0m, \u001b[1;36m32359\u001b[0m, \u001b[1;36m501\u001b[0m, \u001b[1;36m5174\u001b[0m, \u001b[1;36m488\u001b[0m, \u001b[1;36m323\u001b[0m, \u001b[1;36m10737\u001b[0m, \u001b[1;36m2968\u001b[0m\u001b[1m]\u001b[0m\n"
      ]
     },
     "metadata": {},
     "output_type": "display_data"
    },
    {
     "data": {
      "text/html": [
       "<pre style=\"white-space:pre;overflow-x:auto;line-height:normal;font-family:Menlo,'DejaVu Sans Mono',consolas,'Courier New',monospace\">decoded tokens:\n",
       "<span style=\"font-weight: bold\">[</span>\n",
       "    <span style=\"color: #008000; text-decoration-color: #008000\">'Art'</span>,\n",
       "    <span style=\"color: #008000; text-decoration-color: #008000\">'ificial'</span>,\n",
       "    <span style=\"color: #008000; text-decoration-color: #008000\">' intelligence'</span>,\n",
       "    <span style=\"color: #008000; text-decoration-color: #008000\">' is'</span>,\n",
       "    <span style=\"color: #008000; text-decoration-color: #008000\">' transforming'</span>,\n",
       "    <span style=\"color: #008000; text-decoration-color: #008000\">' industries'</span>,\n",
       "    <span style=\"color: #008000; text-decoration-color: #008000\">'.'</span>,\n",
       "    <span style=\"color: #008000; text-decoration-color: #008000\">' Neuro'</span>,\n",
       "    <span style=\"color: #008000; text-decoration-color: #008000\">'pl'</span>,\n",
       "    <span style=\"color: #008000; text-decoration-color: #008000\">'astic'</span>,\n",
       "    <span style=\"color: #008000; text-decoration-color: #008000\">'ity'</span>,\n",
       "    <span style=\"color: #008000; text-decoration-color: #008000\">' and'</span>,\n",
       "    <span style=\"color: #008000; text-decoration-color: #008000\">' adapt'</span>,\n",
       "    <span style=\"color: #008000; text-decoration-color: #008000\">'ability'</span>\n",
       "<span style=\"font-weight: bold\">]</span>\n",
       "</pre>\n"
      ],
      "text/plain": [
       "decoded tokens:\n",
       "\u001b[1m[\u001b[0m\n",
       "    \u001b[32m'Art'\u001b[0m,\n",
       "    \u001b[32m'ificial'\u001b[0m,\n",
       "    \u001b[32m' intelligence'\u001b[0m,\n",
       "    \u001b[32m' is'\u001b[0m,\n",
       "    \u001b[32m' transforming'\u001b[0m,\n",
       "    \u001b[32m' industries'\u001b[0m,\n",
       "    \u001b[32m'.'\u001b[0m,\n",
       "    \u001b[32m' Neuro'\u001b[0m,\n",
       "    \u001b[32m'pl'\u001b[0m,\n",
       "    \u001b[32m'astic'\u001b[0m,\n",
       "    \u001b[32m'ity'\u001b[0m,\n",
       "    \u001b[32m' and'\u001b[0m,\n",
       "    \u001b[32m' adapt'\u001b[0m,\n",
       "    \u001b[32m'ability'\u001b[0m\n",
       "\u001b[1m]\u001b[0m\n"
      ]
     },
     "metadata": {},
     "output_type": "display_data"
    }
   ],
   "source": [
    "tokens = encoding_gpt3.encode(sample_sentence)\n",
    "\n",
    "decoded_tokens = [encoding_gpt3.decode([token]) for token in tokens]\n",
    "\n",
    "rich.print (\"tokens:\", tokens )\n",
    "\n",
    "rich.print (\"decoded tokens:\", decoded_tokens )\n",
    "\n"
   ]
  },
  {
   "cell_type": "code",
   "execution_count": 9,
   "id": "aa988547-7ba2-4a02-90bc-05e48835f2ca",
   "metadata": {
    "tags": []
   },
   "outputs": [
    {
     "data": {
      "text/html": [
       "<pre style=\"white-space:pre;overflow-x:auto;line-height:normal;font-family:Menlo,'DejaVu Sans Mono',consolas,'Courier New',monospace\">tokens:\n",
       "<span style=\"font-weight: bold\">[</span><span style=\"color: #008080; text-decoration-color: #008080; font-weight: bold\">186671</span>, <span style=\"color: #008080; text-decoration-color: #008080; font-weight: bold\">22990</span>, <span style=\"color: #008080; text-decoration-color: #008080; font-weight: bold\">382</span>, <span style=\"color: #008080; text-decoration-color: #008080; font-weight: bold\">64779</span>, <span style=\"color: #008080; text-decoration-color: #008080; font-weight: bold\">22751</span>, <span style=\"color: #008080; text-decoration-color: #008080; font-weight: bold\">13</span>, <span style=\"color: #008080; text-decoration-color: #008080; font-weight: bold\">89022</span>, <span style=\"color: #008080; text-decoration-color: #008080; font-weight: bold\">187126</span>, <span style=\"color: #008080; text-decoration-color: #008080; font-weight: bold\">536</span>, <span style=\"color: #008080; text-decoration-color: #008080; font-weight: bold\">326</span>, <span style=\"color: #008080; text-decoration-color: #008080; font-weight: bold\">188637</span><span style=\"font-weight: bold\">]</span>\n",
       "</pre>\n"
      ],
      "text/plain": [
       "tokens:\n",
       "\u001b[1m[\u001b[0m\u001b[1;36m186671\u001b[0m, \u001b[1;36m22990\u001b[0m, \u001b[1;36m382\u001b[0m, \u001b[1;36m64779\u001b[0m, \u001b[1;36m22751\u001b[0m, \u001b[1;36m13\u001b[0m, \u001b[1;36m89022\u001b[0m, \u001b[1;36m187126\u001b[0m, \u001b[1;36m536\u001b[0m, \u001b[1;36m326\u001b[0m, \u001b[1;36m188637\u001b[0m\u001b[1m]\u001b[0m\n"
      ]
     },
     "metadata": {},
     "output_type": "display_data"
    },
    {
     "data": {
      "text/html": [
       "<pre style=\"white-space:pre;overflow-x:auto;line-height:normal;font-family:Menlo,'DejaVu Sans Mono',consolas,'Courier New',monospace\">decoded tokens:\n",
       "<span style=\"font-weight: bold\">[</span>\n",
       "    <span style=\"color: #008000; text-decoration-color: #008000\">'Artificial'</span>,\n",
       "    <span style=\"color: #008000; text-decoration-color: #008000\">' intelligence'</span>,\n",
       "    <span style=\"color: #008000; text-decoration-color: #008000\">' is'</span>,\n",
       "    <span style=\"color: #008000; text-decoration-color: #008000\">' transforming'</span>,\n",
       "    <span style=\"color: #008000; text-decoration-color: #008000\">' industries'</span>,\n",
       "    <span style=\"color: #008000; text-decoration-color: #008000\">'.'</span>,\n",
       "    <span style=\"color: #008000; text-decoration-color: #008000\">' Neuro'</span>,\n",
       "    <span style=\"color: #008000; text-decoration-color: #008000\">'plastic'</span>,\n",
       "    <span style=\"color: #008000; text-decoration-color: #008000\">'ity'</span>,\n",
       "    <span style=\"color: #008000; text-decoration-color: #008000\">' and'</span>,\n",
       "    <span style=\"color: #008000; text-decoration-color: #008000\">' adaptability'</span>\n",
       "<span style=\"font-weight: bold\">]</span>\n",
       "</pre>\n"
      ],
      "text/plain": [
       "decoded tokens:\n",
       "\u001b[1m[\u001b[0m\n",
       "    \u001b[32m'Artificial'\u001b[0m,\n",
       "    \u001b[32m' intelligence'\u001b[0m,\n",
       "    \u001b[32m' is'\u001b[0m,\n",
       "    \u001b[32m' transforming'\u001b[0m,\n",
       "    \u001b[32m' industries'\u001b[0m,\n",
       "    \u001b[32m'.'\u001b[0m,\n",
       "    \u001b[32m' Neuro'\u001b[0m,\n",
       "    \u001b[32m'plastic'\u001b[0m,\n",
       "    \u001b[32m'ity'\u001b[0m,\n",
       "    \u001b[32m' and'\u001b[0m,\n",
       "    \u001b[32m' adaptability'\u001b[0m\n",
       "\u001b[1m]\u001b[0m\n"
      ]
     },
     "metadata": {},
     "output_type": "display_data"
    }
   ],
   "source": [
    "tokens = encoding_gpt4.encode(sample_sentence)\n",
    "\n",
    "decoded_tokens = [encoding_gpt4.decode([token]) for token in tokens]\n",
    "\n",
    "rich.print (\"tokens:\", tokens )\n",
    "\n",
    "rich.print (\"decoded tokens:\", decoded_tokens )\n"
   ]
  },
  {
   "cell_type": "markdown",
   "id": "2fc921f3-d8da-4163-b9f8-72ec8e550a22",
   "metadata": {},
   "source": [
    "Different OpenAI models might use a different tokenizer.    \n",
    "\n",
    "Notice the larger tokenizer `o200k_base` is able to recognize more tokens"
   ]
  },
  {
   "cell_type": "code",
   "execution_count": null,
   "id": "f9ec2669-2320-4e58-a9e8-98f2d31fd9a1",
   "metadata": {},
   "outputs": [],
   "source": []
  },
  {
   "cell_type": "markdown",
   "id": "1e34d312-c6e0-4928-9cca-dec3d156a82d",
   "metadata": {},
   "source": [
    "## Text Chunking Strategies"
   ]
  },
  {
   "cell_type": "code",
   "execution_count": null,
   "id": "8551f0e8-0ce7-4070-ab28-6f98ac013232",
   "metadata": {},
   "outputs": [],
   "source": []
  },
  {
   "cell_type": "markdown",
   "id": "f2f3e751-82d3-4531-9e09-1da1d2e2c80d",
   "metadata": {
    "tags": []
   },
   "source": [
    "### Token Text Splitter"
   ]
  },
  {
   "cell_type": "code",
   "execution_count": 10,
   "id": "e315b21f-d798-411b-b9b1-8ec15b696ab8",
   "metadata": {
    "tags": []
   },
   "outputs": [],
   "source": [
    "from llama_index.core.node_parser import TokenTextSplitter\n",
    "from llama_index.core import Document\n"
   ]
  },
  {
   "cell_type": "markdown",
   "id": "3c080852-c5b5-4e07-b696-488c0fd1c975",
   "metadata": {
    "tags": []
   },
   "source": [
    "![TokenTextSplitter](../images/token_text_splitter.png)\n"
   ]
  },
  {
   "cell_type": "markdown",
   "id": "a06e2436-5d01-4115-9878-bef4a967e87a",
   "metadata": {},
   "source": [
    "no text overalap"
   ]
  },
  {
   "cell_type": "code",
   "execution_count": 11,
   "id": "d999a25b-1625-428f-b739-1407c8edac27",
   "metadata": {
    "tags": []
   },
   "outputs": [],
   "source": [
    "node_parser = TokenTextSplitter(chunk_size=25, chunk_overlap=0)\n",
    "chunks = node_parser.split_text(transcript)"
   ]
  },
  {
   "cell_type": "code",
   "execution_count": 12,
   "id": "590c8757-9aeb-4700-bb5a-0982049a2e06",
   "metadata": {
    "tags": []
   },
   "outputs": [
    {
     "data": {
      "text/plain": [
       "(317, 3)"
      ]
     },
     "execution_count": 12,
     "metadata": {},
     "output_type": "execute_result"
    }
   ],
   "source": [
    "len(transcript), len(chunks)"
   ]
  },
  {
   "cell_type": "code",
   "execution_count": null,
   "id": "700df907-2970-47a7-9397-ec99beac4d83",
   "metadata": {
    "tags": []
   },
   "outputs": [],
   "source": []
  },
  {
   "cell_type": "code",
   "execution_count": null,
   "id": "7fe5df0e-f37a-428a-a6f2-be07c5f3b0bf",
   "metadata": {
    "tags": []
   },
   "outputs": [],
   "source": []
  },
  {
   "cell_type": "code",
   "execution_count": 13,
   "id": "6c766883-aa82-45d2-8007-0426eb075d8b",
   "metadata": {
    "tags": []
   },
   "outputs": [
    {
     "data": {
      "text/html": [
       "<pre style=\"white-space:pre;overflow-x:auto;line-height:normal;font-family:Menlo,'DejaVu Sans Mono',consolas,'Courier New',monospace\"><span style=\"font-weight: bold\">[</span>\n",
       "    <span style=\"color: #008000; text-decoration-color: #008000\">\"New York City has some absolutely iconic food and today that's all I'm going to be eating.\\nWe'll show you\"</span>,\n",
       "    <span style=\"color: #008000; text-decoration-color: #008000\">\"New York's best bagels hot dogs Pastrami and more.  \\nGet ready for the ultimate NYC food tour and\"</span>,\n",
       "    <span style=\"color: #008000; text-decoration-color: #008000\">'this video is filmed in order so you can literally turn this into a bucket list New York City Food Adventure.'</span>\n",
       "<span style=\"font-weight: bold\">]</span>\n",
       "</pre>\n"
      ],
      "text/plain": [
       "\u001b[1m[\u001b[0m\n",
       "    \u001b[32m\"New York City has some absolutely iconic food and today that's all I'm going to be eating.\\nWe'll show you\"\u001b[0m,\n",
       "    \u001b[32m\"New York's best bagels hot dogs Pastrami and more.  \\nGet ready for the ultimate NYC food tour and\"\u001b[0m,\n",
       "    \u001b[32m'this video is filmed in order so you can literally turn this into a bucket list New York City Food Adventure.'\u001b[0m\n",
       "\u001b[1m]\u001b[0m\n"
      ]
     },
     "metadata": {},
     "output_type": "display_data"
    }
   ],
   "source": [
    "rich.print (chunks [:5] )"
   ]
  },
  {
   "cell_type": "markdown",
   "id": "4faeb6e9-e8ac-4671-a72f-6a05dcf7e2f7",
   "metadata": {},
   "source": [
    "Notice in the first sentence `we'll show you New` is part of another sentence, but it is captured"
   ]
  },
  {
   "cell_type": "code",
   "execution_count": null,
   "id": "da7f4f8c-6564-43c7-b0c8-85550d0d8d5f",
   "metadata": {},
   "outputs": [],
   "source": []
  },
  {
   "cell_type": "code",
   "execution_count": null,
   "id": "4f260e4d-decb-4215-a5a3-e6cfa0cdc236",
   "metadata": {},
   "outputs": [],
   "source": []
  },
  {
   "cell_type": "markdown",
   "id": "03d44b25-1c9c-4f70-8a74-e721a477946b",
   "metadata": {},
   "source": [
    "text overlap"
   ]
  },
  {
   "cell_type": "markdown",
   "id": "b7b8dce1-e096-40ef-96df-d3284cc17617",
   "metadata": {},
   "source": [
    "because we might loose context, it might be helpful to capture part of the previous sentence"
   ]
  },
  {
   "cell_type": "code",
   "execution_count": null,
   "id": "879b6e57-d8af-4e08-96e4-7219d7ecb4e9",
   "metadata": {},
   "outputs": [],
   "source": []
  },
  {
   "cell_type": "code",
   "execution_count": 14,
   "id": "5b52cd81-6ddd-4b18-ba3f-e59dd435d033",
   "metadata": {
    "tags": []
   },
   "outputs": [],
   "source": [
    "node_parser = TokenTextSplitter(chunk_size=25, chunk_overlap=5)\n",
    "chunks = node_parser.split_text(transcript)"
   ]
  },
  {
   "cell_type": "code",
   "execution_count": 15,
   "id": "308942fc-37c9-43b7-ac50-67df89c49203",
   "metadata": {
    "tags": []
   },
   "outputs": [
    {
     "data": {
      "text/plain": [
       "(317, 4)"
      ]
     },
     "execution_count": 15,
     "metadata": {},
     "output_type": "execute_result"
    }
   ],
   "source": [
    "len(transcript), len(chunks)"
   ]
  },
  {
   "cell_type": "code",
   "execution_count": 16,
   "id": "34bf150a-61b4-4368-9717-618dd27a273f",
   "metadata": {
    "tags": []
   },
   "outputs": [
    {
     "data": {
      "text/html": [
       "<pre style=\"white-space:pre;overflow-x:auto;line-height:normal;font-family:Menlo,'DejaVu Sans Mono',consolas,'Courier New',monospace\"><span style=\"font-weight: bold\">[</span>\n",
       "    <span style=\"color: #008000; text-decoration-color: #008000\">\"New York City has some absolutely iconic food and today that's all I'm going to be eating.\\nWe'll show you\"</span>,\n",
       "    <span style=\"color: #008000; text-decoration-color: #008000\">\"show you New York's best bagels hot dogs Pastrami and more.  \\nGet ready for the ultimate NYC food\"</span>,\n",
       "    <span style=\"color: #008000; text-decoration-color: #008000\">'for the ultimate NYC food tour and this video is filmed in order so you can literally turn this into a bucket </span>\n",
       "<span style=\"color: #008000; text-decoration-color: #008000\">list New York'</span>,\n",
       "    <span style=\"color: #008000; text-decoration-color: #008000\">'a bucket list New York City Food Adventure.'</span>\n",
       "<span style=\"font-weight: bold\">]</span>\n",
       "</pre>\n"
      ],
      "text/plain": [
       "\u001b[1m[\u001b[0m\n",
       "    \u001b[32m\"New York City has some absolutely iconic food and today that's all I'm going to be eating.\\nWe'll show you\"\u001b[0m,\n",
       "    \u001b[32m\"show you New York's best bagels hot dogs Pastrami and more.  \\nGet ready for the ultimate NYC food\"\u001b[0m,\n",
       "    \u001b[32m'for the ultimate NYC food tour and this video is filmed in order so you can literally turn this into a bucket \u001b[0m\n",
       "\u001b[32mlist New York'\u001b[0m,\n",
       "    \u001b[32m'a bucket list New York City Food Adventure.'\u001b[0m\n",
       "\u001b[1m]\u001b[0m\n"
      ]
     },
     "metadata": {},
     "output_type": "display_data"
    }
   ],
   "source": [
    "rich.print (chunks [:5] )"
   ]
  },
  {
   "cell_type": "code",
   "execution_count": null,
   "id": "c434255e-a8f3-4e87-b209-84ae3f540fa7",
   "metadata": {},
   "outputs": [],
   "source": []
  },
  {
   "cell_type": "code",
   "execution_count": null,
   "id": "50664f56-9411-4984-941e-ce84d11207cc",
   "metadata": {},
   "outputs": [],
   "source": []
  },
  {
   "cell_type": "markdown",
   "id": "a6251e1b-beb7-48fd-a28f-d67339da1306",
   "metadata": {},
   "source": [
    "### Sentence Splitter"
   ]
  },
  {
   "cell_type": "markdown",
   "id": "9e281ad3-a262-4cba-93e3-a64590d65692",
   "metadata": {},
   "source": [
    "Parse text with a preference for complete sentences.\n",
    "\n",
    "In general, this class tries to keep sentences and paragraphs together. \n",
    "\n",
    "Therefore compared to the original TokenTextSplitter, there are less likely to be hanging sentences or parts of sentences at the end of the node chunk.\n",
    "\n",
    "[Docs](https://docs.llamaindex.ai/en/stable/api_reference/node_parsers/sentence_splitter/)"
   ]
  },
  {
   "cell_type": "code",
   "execution_count": 17,
   "id": "189d43b4-22b4-46b9-b9a4-6f945923bab2",
   "metadata": {
    "tags": []
   },
   "outputs": [],
   "source": [
    "from llama_index.core.node_parser import SentenceSplitter\n"
   ]
  },
  {
   "cell_type": "code",
   "execution_count": 18,
   "id": "34c469f2-044c-484b-8cea-cf9891009a57",
   "metadata": {
    "tags": []
   },
   "outputs": [],
   "source": [
    "node_parser = SentenceSplitter(chunk_size=25, chunk_overlap=5)\n",
    "chunks = node_parser.split_text(transcript)"
   ]
  },
  {
   "cell_type": "code",
   "execution_count": 19,
   "id": "a213efe4-66a5-4188-a45e-b46273f12cd7",
   "metadata": {
    "tags": []
   },
   "outputs": [
    {
     "data": {
      "text/plain": [
       "(317, 4)"
      ]
     },
     "execution_count": 19,
     "metadata": {},
     "output_type": "execute_result"
    }
   ],
   "source": [
    "len(transcript), len(chunks)"
   ]
  },
  {
   "cell_type": "code",
   "execution_count": 20,
   "id": "493e5bb9-e4e5-49aa-ab0c-e3fd66f98a72",
   "metadata": {
    "tags": []
   },
   "outputs": [
    {
     "data": {
      "text/html": [
       "<pre style=\"white-space:pre;overflow-x:auto;line-height:normal;font-family:Menlo,'DejaVu Sans Mono',consolas,'Courier New',monospace\"><span style=\"font-weight: bold\">[</span>\n",
       "    <span style=\"color: #008000; text-decoration-color: #008000\">\"New York City has some absolutely iconic food and today that's all I'm going to be eating.\"</span>,\n",
       "    <span style=\"color: #008000; text-decoration-color: #008000\">\"We'll show you New York's best bagels hot dogs Pastrami and more.  \\nGet ready for the ultimate NYC\"</span>,\n",
       "    <span style=\"color: #008000; text-decoration-color: #008000\">'ready for the ultimate NYC food tour and this video is filmed in order so you can literally turn this into a </span>\n",
       "<span style=\"color: #008000; text-decoration-color: #008000\">bucket list New'</span>,\n",
       "    <span style=\"color: #008000; text-decoration-color: #008000\">'into a bucket list New York City Food Adventure.'</span>\n",
       "<span style=\"font-weight: bold\">]</span>\n",
       "</pre>\n"
      ],
      "text/plain": [
       "\u001b[1m[\u001b[0m\n",
       "    \u001b[32m\"New York City has some absolutely iconic food and today that's all I'm going to be eating.\"\u001b[0m,\n",
       "    \u001b[32m\"We'll show you New York's best bagels hot dogs Pastrami and more.  \\nGet ready for the ultimate NYC\"\u001b[0m,\n",
       "    \u001b[32m'ready for the ultimate NYC food tour and this video is filmed in order so you can literally turn this into a \u001b[0m\n",
       "\u001b[32mbucket list New'\u001b[0m,\n",
       "    \u001b[32m'into a bucket list New York City Food Adventure.'\u001b[0m\n",
       "\u001b[1m]\u001b[0m\n"
      ]
     },
     "metadata": {},
     "output_type": "display_data"
    }
   ],
   "source": [
    "rich.print (chunks [:5] )"
   ]
  },
  {
   "cell_type": "markdown",
   "id": "009caaeb-af96-4d63-b4eb-d6e5708e5c40",
   "metadata": {},
   "source": [
    "notice the first sentence is captured completely."
   ]
  },
  {
   "cell_type": "code",
   "execution_count": null,
   "id": "fd1ddeb3-e37a-4e44-bca0-9738612aa8b7",
   "metadata": {},
   "outputs": [],
   "source": []
  },
  {
   "cell_type": "code",
   "execution_count": null,
   "id": "ffb32820-326b-4c84-9a2d-32ff5f3c249e",
   "metadata": {},
   "outputs": [],
   "source": []
  },
  {
   "cell_type": "markdown",
   "id": "af67a2bf-bf6b-4c29-ac8e-ee2a3b242ac7",
   "metadata": {},
   "source": [
    "### Example with Youtube Transcript"
   ]
  },
  {
   "cell_type": "code",
   "execution_count": 21,
   "id": "0876a94d-065a-4728-91a6-43d5cc6d56fa",
   "metadata": {
    "tags": []
   },
   "outputs": [],
   "source": [
    "transcript_yt = \"\"\"\n",
    "New York City has some absolutely iconic food and today that's all I'm going to be eating we'll show you New York's best bagels hot dogs Pastrami and more get ready for the ultimate NYC food tour and this video is filmed in order so you can literally turn this into a bucket list New York City Food Adventure if you want The Bagel the breakfast icon of New York City brought here by polish Jewish immigrants at the turn of the 20th century is there a more New York City breakfast than this debatable well you can tell they mean business when 12 30 on a Monday there's already a super long line an absolute I've heard from so many is the best bagel in New York City and this is the only spot in the video I've never been to so let's find out oh those look so good it's passing the visual test how are you can I get an everything bagel with scallion cream cheese please no thank you all right let's investigate this is the Story of My Life Line dies the second we head out [Music] everyone in New York generally thinks where they're from has the best bagels their neighborhood spot is the best and I've heard about absolute for years finally gonna be trying this legendary Bagel here Morningside Heights you know didn't see a single tourist in line it was like all Columbia students all right let's try this this looks amazing hmm chewy on the outside soft on the inside this is how a New York bagel has to be wow all these years living in the city a dozen years I never tried absolute people push me all the time to try it but I'm glad I finally came that first impression instantly this is going towards the top of my list for New York City Bagels [Music] we're eating so much food today that I did not want to get locks any of their salmon choices the appetizing stuff I want to try that at some point but I have to tell you I'm struggling right now to think of a better Bagel I've ever had in New York old statement coming I think this is the best bagel I've ever had in New York City I would put this in a textbook for a New York City Bagel and a very important note for you all hash only I saw people rushing out telling their friends they'll go to the ATM machine there was a little bit of confusion with that but they don't take pre-orders they don't do delivery they do one thing they do it well Bagels cash only and I mean they have that right they've earned it in my opinion absolute Bagels absolutely recommended what a start to this iconic New York City food tour foreign Ty more iconic in cinema than somebody grabbing a straight hot dog in the city well we've got Billy's here and the story with him is we included him in our best reviewed hot dog video last year and his hot dog stand really blew up an international popularity YouTube channels covered him a lot of my viewers from all over the world said he was fantastic let's go pay him a visit and see if he remembers us love it always a line Billy is a local Legend I've been coming to him since I was mid-30s oh wow I'm 67 years old 30 years huh best in the city well he's always here yeah people have been coming to this guy for decades remember me best reviewed hot dogs in New York City uh we're doing different spots hot dogs pastrami like the best of each category and your hot dog you deserve it man you deserve it oh yeah but you do a great job man so I just want to thank you too I appreciate it you got a hard job man you you got the whole neighborhood here you know no no yeah okay got the baby yes sir here he is six months he's a big boy you're right she was pregnant he tried your hot dog while still in the womb anything you want to say to the people thanks to everybody that's all thank you so much Billy all right okay guys I'll see you soon this is the best man heading to Central Park to Billy's hot dogs doesn't get much better than this Billy does his hot dogs good I'm telling you this is not your average Dirty Water Dog in New York City he puts a lot of love into this we have his onion sauce and some mustard real simple two dollars each nice snap love the onion sauce it's just a little bit of kick now of course you come here for the hot dog you come here for a good hot dog but what you're really coming for is somebody who's been in the neighborhood for well over 30 years for decades and when you go there even if you're not from New York City you're gonna feel like you're from New York City who talks to everybody he'll ask where you're from I'll ask how your day is going you want to feel like a local for just a little bit even if you're not come to Billy's hot dogs and then head to Central Park why not combine the two do Central Park right after the locations absolutely perfect and the hot dogs really good as well if you love New York food and want a really cool gift consider shopping at the online store my wife and I run over on Etsy she's got stickers prints and a whole lot more at really affordable prices ships worldwide see the link in the description [Music] the Jewish deli a New York institution my viewers constantly ask me where do you get a good pastrami sandwich I always point the massages over Katz's for a more local experience I love this spot I want to do the number three corned beef and pastrami always get that like every time and a dark brown celery many people say just get a pastrami I like to mix up the two when I come to sarges so we have rye bread on top of coleslaw Russian dressing then we have some of the fatter pastrami on top of the leaner corned beef so this is the ultimate Jewish deli sandwich in New York City right here you're probably gonna need a fork and knife I'm going to attempt to get at least a few bites for this thing topples over it's so rich so tender in flavor you just want double meat experience combined with that rye bread and the Russian dressing one of my favorite sandwiches in all of New York City and honestly something that I would say New York does better than any place else in the world the deli sandwich you can argue Pizza you can argue Bagels you can argue hot dogs Anthony Bourdain said it many times this is what New York is better than anybody and I think Sarge's does it better than the rest my personal opinion New Yorkers will fight either the death and who their favorites are but I'll tell you I don't see a single tourist in here I've had many of you out there call me out for not ordering doc Browns celery soda I've actually never had celery soda well that's really good I approved this pairing but bring your appetite when you come here sargis is interesting because for years and years they were open 24 hours but after the pandemic like many businesses they do now close at 10 pm so you can't come here at three o'clock in the morning and try to fight a hangover with a big pastrami sandwich anymore no shame using a fork and knife if you want to get your money's worth here no shame all right that was the uh the gut bomb of the video but we've got more [Music] everyone in New York has their favorite pizza spot Bleaker Street has always been mine I lived in the village for 10 years and it is by far my viewers favorite pick that I have ever recorded at I'm constantly getting tagged here so when I pick an iconic pizza spot for the video it's Bleaker Street oh you're welcome you saw this in my video yes yes how is it is it good it's good you approve okay if you guys approve I'm happy where are you from London but originally Estonia oh cool Welcome to New York they approve the pizza I'm happy [Music] wow thank you so much fresh Nona Maria dreams are made of this absolute favorite pizza in all New York City you know first and foremost I love the story of Bleecker Street Pizza it was opened by a retired police captain who served at Ground Zero during 9 11. and this was his grandma's recipe thin crust with fresh mozzarella homemade marinara sauce finest parmesan fresh basil and Parmigiano-Reggiano cheese I think that's like the missing ingredient in a lot of Pies right now in New York City you're seeing Parmigiano-Reggiano cheese being used which is imported from Italy and very very expensive here we go it's been too long since I've had this actually all of those premium ingredients together just hits different I'm telling you I'm not trying to compare this to your everyday New York City slice that's its own animal but this particular slice here it's a specialty it lies somewhere between the neapolitan pizza and a regular New York slice holds up really well nice undercarriage a lot of sauce a lot of cheese very Saucy you're into a saucy slice you are going to fall in love with the Nona Maria everybody behind me is ordering anona Maria this is by far what they're most known for I've had the other slices here before all very good but this this is what you travel to Bleaker Street Pizza for me oh where are you from Croatia was it good too good that's what I like to hear I think of all the places I've ever filmed this is the spot where people almost likely to say hi and it's really cool that a long time ago they put me on the wall of fame here so I don't know if there's a bigger honor in my life than being on the wall of my favorite pizza spot this is like a greatest hits album you know how musicians have their greatest hits one CD one album today's video is just like my favorites thank you a lot of tourists I meet are obsessed with trying New York cheesecake they run to spots like Junior as well I prefer Eileen's special cheesecake hi how can I help two of the classic planes we're just doing it we're doing a YouTube thing about the most iconic foods of New York so is the best you've taken the city that's what I tell people that's why I'm here [Music] they've been open almost 50 years for a reason they were telling me in there that they actually designed these special cheesecakes to be this small for all the tour groups from around the world and tourists that come in I mean I'm always singing their praises as well this is the plane a lot of cream cheese graham cracker crust makes it a little more unique this is really the only dessert I possibly could have had after all the food we feasted on today we will end with this cheesecake icon hello um so light so creamy I want the biggest cheesecake fan but for Eileen's I always make an exception and I just don't think you have to make a special trip to eat cheesecake if you're eating some huge meal and then you gotta force yourself to have dessert this is perfect because you're right on the edge of Soho here so you're probably going to be in the area at some point grab a quick dessert on the go and try New York's most famous dessert Choice cheesecake they baked so many of these so they're so busy they're always getting a fresh piece tart size cheesecake perfect for uh on the go or you could eat it inside remember I put all the addresses down below in the description you want to follow this and make it into a day let me know how it goes because pretty sure you're gonna like it if you like those iconic New York City food choices then you need to watch this video about Halal Street cards these are some of my favorites in the city head here next\n",
    "\n",
    "\"\"\""
   ]
  },
  {
   "cell_type": "code",
   "execution_count": 22,
   "id": "a45d8782-b428-4325-b8e5-f04034350381",
   "metadata": {
    "tags": []
   },
   "outputs": [
    {
     "data": {
      "text/html": [
       "<pre style=\"white-space:pre;overflow-x:auto;line-height:normal;font-family:Menlo,'DejaVu Sans Mono',consolas,'Courier New',monospace\">\n",
       "New York City has some absolutely iconic food and today that's all I'm going to be eating we'll show you New York's\n",
       "best bagels hot dogs Pastrami and more get ready for the ultimate NYC food tour and this video is filmed in order \n",
       "so you can literally turn this into a bucket list New York City Food Adventure if you want The Bagel the breakfast \n",
       "icon of New York City brought here by polish Jewish immigrants at the turn of the 20th century is there a more New \n",
       "York City breakfast than this debatable well you can tell they mean business when <span style=\"color: #008080; text-decoration-color: #008080; font-weight: bold\">12</span> <span style=\"color: #008080; text-decoration-color: #008080; font-weight: bold\">30</span> on a Monday there's already\n",
       "a super long line an absolute I've heard from so many is the best bagel in New York City and this is the only spot \n",
       "in the video I've never been to so let's find out oh those look so good it's passing the visual test how are you \n",
       "can I get an everything bagel with scallion cream cheese please no thank you all right let's investigate this is \n",
       "the Story of My Life Line dies the second we head out <span style=\"font-weight: bold\">[</span>Music<span style=\"font-weight: bold\">]</span> everyone in New York generally thinks where they're \n",
       "from has the best bagels their neighborhood spot is the best and I've heard about absolute for years finally gonna \n",
       "be trying this legendary Bagel here Morningside Heights you know didn't see a single tourist in line it was like \n",
       "all Columbia students all right let's try this this looks amazing hmm chewy on the outside soft on the inside this \n",
       "is how a New York bagel has to be wow all these years living in the city a dozen years I never tried absolute \n",
       "people push me all the time to try it but I'm glad I finally came that first impression instantly this is going \n",
       "towards the top of my list for New York City Bagels <span style=\"font-weight: bold\">[</span>Music<span style=\"font-weight: bold\">]</span> we're eating so much food today that I did not want to \n",
       "get locks any of their salmon choices the appetizing stuff I want to try that at some point but I have to tell you \n",
       "I'm struggling right now to think of a better Bagel I've ever had in New York old statement coming I think this is \n",
       "the best bagel I've ever had in New York City I would put this in a textbook for a New York City Bagel and a very \n",
       "important note for you all hash only I saw people rushing out telling their friends they'll go to the ATM machine \n",
       "there was a little bit of confusion with that but they don't take pre-orders they don't do delivery they do one \n",
       "thing they do it well Bagels cash only and I mean they have that right they've earned it in my opinion absolute \n",
       "Bagels absolutely recommended what a start to this iconic New York City food tour foreign Ty more iconic in cinema \n",
       "than somebody grabbing a straight hot dog in the city well we've got Billy's here and the story with him is we \n",
       "included him in our best reviewed hot dog video last year and his hot dog stand really blew up an international \n",
       "popularity YouTube channels covered him a lot of my viewers from all over the world said he was fantastic let's go \n",
       "pay him a visit and see if he remembers us love it always a line Billy is a local Legend I've been coming to him \n",
       "since I was mid-30s oh wow I'm <span style=\"color: #008080; text-decoration-color: #008080; font-weight: bold\">67</span> years old <span style=\"color: #008080; text-decoration-color: #008080; font-weight: bold\">30</span> years huh best in the city well he's always here yeah people have \n",
       "been coming to this guy for decades remember me best reviewed hot dogs in New York City uh we're doing different \n",
       "spots hot dogs pastrami like the best of each category and your hot dog you deserve it man you deserve it oh yeah \n",
       "but you do a great job man so I just want to thank you too I appreciate it you got a hard job man you you got the \n",
       "whole neighborhood here you know no no yeah okay got the baby yes sir here he is six months he's a big boy you're \n",
       "right she was pregnant he tried your hot dog while still in the womb anything you want to say to the people thanks \n",
       "to everybody that's all thank you so much Billy all right okay guys I'll see you soon this is the best man heading \n",
       "to Central Park to Billy's hot dogs doesn't get much better than this Billy does his hot dogs good I'm telling you \n",
       "this is not your average Dirty Water Dog in New York City he puts a lot of love into this we have his onion sauce \n",
       "and some mustard real simple two dollars each nice snap love the onion sauce it's just a little bit of kick now of \n",
       "course you come here for the hot dog you come here for a good hot dog but what you're really coming for is somebody\n",
       "who's been in the neighborhood for well over <span style=\"color: #008080; text-decoration-color: #008080; font-weight: bold\">30</span> years for decades and when you go there even if you're not from New\n",
       "York City you're gonna feel like you're from New York City who talks to everybody he'll ask where you're from I'll \n",
       "ask how your day is going you want to feel like a local for just a little bit even if you're not come to Billy's \n",
       "hot dogs and then head to Central Park why not combine the two do Central Park right after the locations absolutely\n",
       "perfect and the hot dogs really good as well if you love New York food and want a really cool gift consider \n",
       "shopping at the online store my wife and I run over on Etsy she's got stickers prints and a whole lot more at \n",
       "really affordable prices ships worldwide see the link in the description <span style=\"font-weight: bold\">[</span>Music<span style=\"font-weight: bold\">]</span> the Jewish deli a New York \n",
       "institution my viewers constantly ask me where do you get a good pastrami sandwich I always point the massages over\n",
       "Katz's for a more local experience I love this spot I want to do the number three corned beef and pastrami always \n",
       "get that like every time and a dark brown celery many people say just get a pastrami I like to mix up the two when \n",
       "I come to sarges so we have rye bread on top of coleslaw Russian dressing then we have some of the fatter pastrami \n",
       "on top of the leaner corned beef so this is the ultimate Jewish deli sandwich in New York City right here you're \n",
       "probably gonna need a fork and knife I'm going to attempt to get at least a few bites for this thing topples over \n",
       "it's so rich so tender in flavor you just want double meat experience combined with that rye bread and the Russian \n",
       "dressing one of my favorite sandwiches in all of New York City and honestly something that I would say New York \n",
       "does better than any place else in the world the deli sandwich you can argue Pizza you can argue Bagels you can \n",
       "argue hot dogs Anthony Bourdain said it many times this is what New York is better than anybody and I think Sarge's\n",
       "does it better than the rest my personal opinion New Yorkers will fight either the death and who their favorites \n",
       "are but I'll tell you I don't see a single tourist in here I've had many of you out there call me out for not \n",
       "ordering doc Browns celery soda I've actually never had celery soda well that's really good I approved this pairing\n",
       "but bring your appetite when you come here sargis is interesting because for years and years they were open <span style=\"color: #008080; text-decoration-color: #008080; font-weight: bold\">24</span> \n",
       "hours but after the pandemic like many businesses they do now close at <span style=\"color: #008080; text-decoration-color: #008080; font-weight: bold\">10</span> pm so you can't come here at three \n",
       "o'clock in the morning and try to fight a hangover with a big pastrami sandwich anymore no shame using a fork and \n",
       "knife if you want to get your money's worth here no shame all right that was the uh the gut bomb of the video but \n",
       "we've got more <span style=\"font-weight: bold\">[</span>Music<span style=\"font-weight: bold\">]</span> everyone in New York has their favorite pizza spot Bleaker Street has always been mine I \n",
       "lived in the village for <span style=\"color: #008080; text-decoration-color: #008080; font-weight: bold\">10</span> years and it is by far my viewers favorite pick that I have ever recorded at I'm \n",
       "constantly getting tagged here so when I pick an iconic pizza spot for the video it's Bleaker Street oh you're \n",
       "welcome you saw this in my video yes yes how is it is it good it's good you approve okay if you guys approve I'm \n",
       "happy where are you from London but originally Estonia oh cool Welcome to New York they approve the pizza I'm happy\n",
       "<span style=\"font-weight: bold\">[</span>Music<span style=\"font-weight: bold\">]</span> wow thank you so much fresh Nona Maria dreams are made of this absolute favorite pizza in all New York City\n",
       "you know first and foremost I love the story of Bleecker Street Pizza it was opened by a retired police captain who\n",
       "served at Ground Zero during <span style=\"color: #008080; text-decoration-color: #008080; font-weight: bold\">9</span> <span style=\"color: #008080; text-decoration-color: #008080; font-weight: bold\">11</span>. and this was his grandma's recipe thin crust with fresh mozzarella homemade \n",
       "marinara sauce finest parmesan fresh basil and Parmigiano-Reggiano cheese I think that's like the missing \n",
       "ingredient in a lot of Pies right now in New York City you're seeing Parmigiano-Reggiano cheese being used which is\n",
       "imported from Italy and very very expensive here we go it's been too long since I've had this actually all of those\n",
       "premium ingredients together just hits different I'm telling you I'm not trying to compare this to your everyday \n",
       "New York City slice that's its own animal but this particular slice here it's a specialty it lies somewhere between\n",
       "the neapolitan pizza and a regular New York slice holds up really well nice undercarriage a lot of sauce a lot of \n",
       "cheese very Saucy you're into a saucy slice you are going to fall in love with the Nona Maria everybody behind me \n",
       "is ordering anona Maria this is by far what they're most known for I've had the other slices here before all very \n",
       "good but this this is what you travel to Bleaker Street Pizza for me oh where are you from Croatia was it good too \n",
       "good that's what I like to hear I think of all the places I've ever filmed this is the spot where people almost \n",
       "likely to say hi and it's really cool that a long time ago they put me on the wall of fame here so I don't know if \n",
       "there's a bigger honor in my life than being on the wall of my favorite pizza spot this is like a greatest hits \n",
       "album you know how musicians have their greatest hits one CD one album today's video is just like my favorites \n",
       "thank you a lot of tourists I meet are obsessed with trying New York cheesecake they run to spots like Junior as \n",
       "well I prefer Eileen's special cheesecake hi how can I help two of the classic planes we're just doing it we're \n",
       "doing a YouTube thing about the most iconic foods of New York so is the best you've taken the city that's what I \n",
       "tell people that's why I'm here <span style=\"font-weight: bold\">[</span>Music<span style=\"font-weight: bold\">]</span> they've been open almost <span style=\"color: #008080; text-decoration-color: #008080; font-weight: bold\">50</span> years for a reason they were telling me in \n",
       "there that they actually designed these special cheesecakes to be this small for all the tour groups from around \n",
       "the world and tourists that come in I mean I'm always singing their praises as well this is the plane a lot of \n",
       "cream cheese graham cracker crust makes it a little more unique this is really the only dessert I possibly could \n",
       "have had after all the food we feasted on today we will end with this cheesecake icon hello um so light so creamy I\n",
       "want the biggest cheesecake fan but for Eileen's I always make an exception and I just don't think you have to make\n",
       "a special trip to eat cheesecake if you're eating some huge meal and then you gotta force yourself to have dessert \n",
       "this is perfect because you're right on the edge of Soho here so you're probably going to be in the area at some \n",
       "point grab a quick dessert on the go and try New York's most famous dessert Choice cheesecake they baked so many of\n",
       "these so they're so busy they're always getting a fresh piece tart size cheesecake perfect for uh on the go or you \n",
       "could eat it inside remember I put all the addresses down below in the description you want to follow this and make\n",
       "it into a day let me know how it goes because pretty sure you're gonna like it if you like those iconic New York \n",
       "City food choices then you need to watch this video about Halal Street cards these are some of my favorites in the \n",
       "city head here next\n",
       "\n",
       "\n",
       "</pre>\n"
      ],
      "text/plain": [
       "\n",
       "New York City has some absolutely iconic food and today that's all I'm going to be eating we'll show you New York's\n",
       "best bagels hot dogs Pastrami and more get ready for the ultimate NYC food tour and this video is filmed in order \n",
       "so you can literally turn this into a bucket list New York City Food Adventure if you want The Bagel the breakfast \n",
       "icon of New York City brought here by polish Jewish immigrants at the turn of the 20th century is there a more New \n",
       "York City breakfast than this debatable well you can tell they mean business when \u001b[1;36m12\u001b[0m \u001b[1;36m30\u001b[0m on a Monday there's already\n",
       "a super long line an absolute I've heard from so many is the best bagel in New York City and this is the only spot \n",
       "in the video I've never been to so let's find out oh those look so good it's passing the visual test how are you \n",
       "can I get an everything bagel with scallion cream cheese please no thank you all right let's investigate this is \n",
       "the Story of My Life Line dies the second we head out \u001b[1m[\u001b[0mMusic\u001b[1m]\u001b[0m everyone in New York generally thinks where they're \n",
       "from has the best bagels their neighborhood spot is the best and I've heard about absolute for years finally gonna \n",
       "be trying this legendary Bagel here Morningside Heights you know didn't see a single tourist in line it was like \n",
       "all Columbia students all right let's try this this looks amazing hmm chewy on the outside soft on the inside this \n",
       "is how a New York bagel has to be wow all these years living in the city a dozen years I never tried absolute \n",
       "people push me all the time to try it but I'm glad I finally came that first impression instantly this is going \n",
       "towards the top of my list for New York City Bagels \u001b[1m[\u001b[0mMusic\u001b[1m]\u001b[0m we're eating so much food today that I did not want to \n",
       "get locks any of their salmon choices the appetizing stuff I want to try that at some point but I have to tell you \n",
       "I'm struggling right now to think of a better Bagel I've ever had in New York old statement coming I think this is \n",
       "the best bagel I've ever had in New York City I would put this in a textbook for a New York City Bagel and a very \n",
       "important note for you all hash only I saw people rushing out telling their friends they'll go to the ATM machine \n",
       "there was a little bit of confusion with that but they don't take pre-orders they don't do delivery they do one \n",
       "thing they do it well Bagels cash only and I mean they have that right they've earned it in my opinion absolute \n",
       "Bagels absolutely recommended what a start to this iconic New York City food tour foreign Ty more iconic in cinema \n",
       "than somebody grabbing a straight hot dog in the city well we've got Billy's here and the story with him is we \n",
       "included him in our best reviewed hot dog video last year and his hot dog stand really blew up an international \n",
       "popularity YouTube channels covered him a lot of my viewers from all over the world said he was fantastic let's go \n",
       "pay him a visit and see if he remembers us love it always a line Billy is a local Legend I've been coming to him \n",
       "since I was mid-30s oh wow I'm \u001b[1;36m67\u001b[0m years old \u001b[1;36m30\u001b[0m years huh best in the city well he's always here yeah people have \n",
       "been coming to this guy for decades remember me best reviewed hot dogs in New York City uh we're doing different \n",
       "spots hot dogs pastrami like the best of each category and your hot dog you deserve it man you deserve it oh yeah \n",
       "but you do a great job man so I just want to thank you too I appreciate it you got a hard job man you you got the \n",
       "whole neighborhood here you know no no yeah okay got the baby yes sir here he is six months he's a big boy you're \n",
       "right she was pregnant he tried your hot dog while still in the womb anything you want to say to the people thanks \n",
       "to everybody that's all thank you so much Billy all right okay guys I'll see you soon this is the best man heading \n",
       "to Central Park to Billy's hot dogs doesn't get much better than this Billy does his hot dogs good I'm telling you \n",
       "this is not your average Dirty Water Dog in New York City he puts a lot of love into this we have his onion sauce \n",
       "and some mustard real simple two dollars each nice snap love the onion sauce it's just a little bit of kick now of \n",
       "course you come here for the hot dog you come here for a good hot dog but what you're really coming for is somebody\n",
       "who's been in the neighborhood for well over \u001b[1;36m30\u001b[0m years for decades and when you go there even if you're not from New\n",
       "York City you're gonna feel like you're from New York City who talks to everybody he'll ask where you're from I'll \n",
       "ask how your day is going you want to feel like a local for just a little bit even if you're not come to Billy's \n",
       "hot dogs and then head to Central Park why not combine the two do Central Park right after the locations absolutely\n",
       "perfect and the hot dogs really good as well if you love New York food and want a really cool gift consider \n",
       "shopping at the online store my wife and I run over on Etsy she's got stickers prints and a whole lot more at \n",
       "really affordable prices ships worldwide see the link in the description \u001b[1m[\u001b[0mMusic\u001b[1m]\u001b[0m the Jewish deli a New York \n",
       "institution my viewers constantly ask me where do you get a good pastrami sandwich I always point the massages over\n",
       "Katz's for a more local experience I love this spot I want to do the number three corned beef and pastrami always \n",
       "get that like every time and a dark brown celery many people say just get a pastrami I like to mix up the two when \n",
       "I come to sarges so we have rye bread on top of coleslaw Russian dressing then we have some of the fatter pastrami \n",
       "on top of the leaner corned beef so this is the ultimate Jewish deli sandwich in New York City right here you're \n",
       "probably gonna need a fork and knife I'm going to attempt to get at least a few bites for this thing topples over \n",
       "it's so rich so tender in flavor you just want double meat experience combined with that rye bread and the Russian \n",
       "dressing one of my favorite sandwiches in all of New York City and honestly something that I would say New York \n",
       "does better than any place else in the world the deli sandwich you can argue Pizza you can argue Bagels you can \n",
       "argue hot dogs Anthony Bourdain said it many times this is what New York is better than anybody and I think Sarge's\n",
       "does it better than the rest my personal opinion New Yorkers will fight either the death and who their favorites \n",
       "are but I'll tell you I don't see a single tourist in here I've had many of you out there call me out for not \n",
       "ordering doc Browns celery soda I've actually never had celery soda well that's really good I approved this pairing\n",
       "but bring your appetite when you come here sargis is interesting because for years and years they were open \u001b[1;36m24\u001b[0m \n",
       "hours but after the pandemic like many businesses they do now close at \u001b[1;36m10\u001b[0m pm so you can't come here at three \n",
       "o'clock in the morning and try to fight a hangover with a big pastrami sandwich anymore no shame using a fork and \n",
       "knife if you want to get your money's worth here no shame all right that was the uh the gut bomb of the video but \n",
       "we've got more \u001b[1m[\u001b[0mMusic\u001b[1m]\u001b[0m everyone in New York has their favorite pizza spot Bleaker Street has always been mine I \n",
       "lived in the village for \u001b[1;36m10\u001b[0m years and it is by far my viewers favorite pick that I have ever recorded at I'm \n",
       "constantly getting tagged here so when I pick an iconic pizza spot for the video it's Bleaker Street oh you're \n",
       "welcome you saw this in my video yes yes how is it is it good it's good you approve okay if you guys approve I'm \n",
       "happy where are you from London but originally Estonia oh cool Welcome to New York they approve the pizza I'm happy\n",
       "\u001b[1m[\u001b[0mMusic\u001b[1m]\u001b[0m wow thank you so much fresh Nona Maria dreams are made of this absolute favorite pizza in all New York City\n",
       "you know first and foremost I love the story of Bleecker Street Pizza it was opened by a retired police captain who\n",
       "served at Ground Zero during \u001b[1;36m9\u001b[0m \u001b[1;36m11\u001b[0m. and this was his grandma's recipe thin crust with fresh mozzarella homemade \n",
       "marinara sauce finest parmesan fresh basil and Parmigiano-Reggiano cheese I think that's like the missing \n",
       "ingredient in a lot of Pies right now in New York City you're seeing Parmigiano-Reggiano cheese being used which is\n",
       "imported from Italy and very very expensive here we go it's been too long since I've had this actually all of those\n",
       "premium ingredients together just hits different I'm telling you I'm not trying to compare this to your everyday \n",
       "New York City slice that's its own animal but this particular slice here it's a specialty it lies somewhere between\n",
       "the neapolitan pizza and a regular New York slice holds up really well nice undercarriage a lot of sauce a lot of \n",
       "cheese very Saucy you're into a saucy slice you are going to fall in love with the Nona Maria everybody behind me \n",
       "is ordering anona Maria this is by far what they're most known for I've had the other slices here before all very \n",
       "good but this this is what you travel to Bleaker Street Pizza for me oh where are you from Croatia was it good too \n",
       "good that's what I like to hear I think of all the places I've ever filmed this is the spot where people almost \n",
       "likely to say hi and it's really cool that a long time ago they put me on the wall of fame here so I don't know if \n",
       "there's a bigger honor in my life than being on the wall of my favorite pizza spot this is like a greatest hits \n",
       "album you know how musicians have their greatest hits one CD one album today's video is just like my favorites \n",
       "thank you a lot of tourists I meet are obsessed with trying New York cheesecake they run to spots like Junior as \n",
       "well I prefer Eileen's special cheesecake hi how can I help two of the classic planes we're just doing it we're \n",
       "doing a YouTube thing about the most iconic foods of New York so is the best you've taken the city that's what I \n",
       "tell people that's why I'm here \u001b[1m[\u001b[0mMusic\u001b[1m]\u001b[0m they've been open almost \u001b[1;36m50\u001b[0m years for a reason they were telling me in \n",
       "there that they actually designed these special cheesecakes to be this small for all the tour groups from around \n",
       "the world and tourists that come in I mean I'm always singing their praises as well this is the plane a lot of \n",
       "cream cheese graham cracker crust makes it a little more unique this is really the only dessert I possibly could \n",
       "have had after all the food we feasted on today we will end with this cheesecake icon hello um so light so creamy I\n",
       "want the biggest cheesecake fan but for Eileen's I always make an exception and I just don't think you have to make\n",
       "a special trip to eat cheesecake if you're eating some huge meal and then you gotta force yourself to have dessert \n",
       "this is perfect because you're right on the edge of Soho here so you're probably going to be in the area at some \n",
       "point grab a quick dessert on the go and try New York's most famous dessert Choice cheesecake they baked so many of\n",
       "these so they're so busy they're always getting a fresh piece tart size cheesecake perfect for uh on the go or you \n",
       "could eat it inside remember I put all the addresses down below in the description you want to follow this and make\n",
       "it into a day let me know how it goes because pretty sure you're gonna like it if you like those iconic New York \n",
       "City food choices then you need to watch this video about Halal Street cards these are some of my favorites in the \n",
       "city head here next\n",
       "\n",
       "\n"
      ]
     },
     "metadata": {},
     "output_type": "display_data"
    }
   ],
   "source": [
    "rich.print(transcript_yt)"
   ]
  },
  {
   "cell_type": "code",
   "execution_count": 23,
   "id": "e234564c-ed5a-455a-ab27-594c07acd714",
   "metadata": {
    "tags": []
   },
   "outputs": [
    {
     "data": {
      "text/html": [
       "<pre style=\"white-space:pre;overflow-x:auto;line-height:normal;font-family:Menlo,'DejaVu Sans Mono',consolas,'Courier New',monospace\"><span style=\"font-weight: bold\">[</span>\n",
       "    <span style=\"color: #008000; text-decoration-color: #008000\">\"New York City has some absolutely iconic food and today that's all I'm going to be eating we'll show you New\"</span>,\n",
       "    <span style=\"color: #008000; text-decoration-color: #008000\">\"York's best bagels hot dogs Pastrami and more get ready for the ultimate NYC food tour and this video is </span>\n",
       "<span style=\"color: #008000; text-decoration-color: #008000\">filmed\"</span>,\n",
       "    <span style=\"color: #008000; text-decoration-color: #008000\">'in order so you can literally turn this into a bucket list New York City Food Adventure if you want The Bagel </span>\n",
       "<span style=\"color: #008000; text-decoration-color: #008000\">the breakfast'</span>,\n",
       "    <span style=\"color: #008000; text-decoration-color: #008000\">'icon of New York City brought here by polish Jewish immigrants at the turn of the 20th century is there a more</span>\n",
       "<span style=\"color: #008000; text-decoration-color: #008000\">New'</span>,\n",
       "    <span style=\"color: #008000; text-decoration-color: #008000\">\"York City breakfast than this debatable well you can tell they mean business when 12 30 on a Monday there's </span>\n",
       "<span style=\"color: #008000; text-decoration-color: #008000\">already\"</span>\n",
       "<span style=\"font-weight: bold\">]</span>\n",
       "</pre>\n"
      ],
      "text/plain": [
       "\u001b[1m[\u001b[0m\n",
       "    \u001b[32m\"New York City has some absolutely iconic food and today that's all I'm going to be eating we'll show you New\"\u001b[0m,\n",
       "    \u001b[32m\"York's best bagels hot dogs Pastrami and more get ready for the ultimate NYC food tour and this video is \u001b[0m\n",
       "\u001b[32mfilmed\"\u001b[0m,\n",
       "    \u001b[32m'in order so you can literally turn this into a bucket list New York City Food Adventure if you want The Bagel \u001b[0m\n",
       "\u001b[32mthe breakfast'\u001b[0m,\n",
       "    \u001b[32m'icon of New York City brought here by polish Jewish immigrants at the turn of the 20th century is there a more\u001b[0m\n",
       "\u001b[32mNew'\u001b[0m,\n",
       "    \u001b[32m\"York City breakfast than this debatable well you can tell they mean business when 12 30 on a Monday there's \u001b[0m\n",
       "\u001b[32malready\"\u001b[0m\n",
       "\u001b[1m]\u001b[0m\n"
      ]
     },
     "metadata": {},
     "output_type": "display_data"
    }
   ],
   "source": [
    "node_parser = TokenTextSplitter(chunk_size=25, chunk_overlap=0)\n",
    "chunks = node_parser.split_text(transcript_yt)\n",
    "rich.print (chunks [:5] )"
   ]
  },
  {
   "cell_type": "code",
   "execution_count": 24,
   "id": "21119d4f-24fd-439d-a64e-478f99ecd6c2",
   "metadata": {
    "tags": []
   },
   "outputs": [
    {
     "data": {
      "text/html": [
       "<pre style=\"white-space:pre;overflow-x:auto;line-height:normal;font-family:Menlo,'DejaVu Sans Mono',consolas,'Courier New',monospace\"><span style=\"font-weight: bold\">[</span>\n",
       "    <span style=\"color: #008000; text-decoration-color: #008000\">\"New York City has some absolutely iconic food and today that's all I'm going to be eating we'll show you New\"</span>,\n",
       "    <span style=\"color: #008000; text-decoration-color: #008000\">\"York's best bagels hot dogs Pastrami and more get ready for the ultimate NYC food tour and this video is </span>\n",
       "<span style=\"color: #008000; text-decoration-color: #008000\">filmed\"</span>,\n",
       "    <span style=\"color: #008000; text-decoration-color: #008000\">'in order so you can literally turn this into a bucket list New York City Food Adventure if you want The Bagel </span>\n",
       "<span style=\"color: #008000; text-decoration-color: #008000\">the breakfast'</span>,\n",
       "    <span style=\"color: #008000; text-decoration-color: #008000\">'icon of New York City brought here by polish Jewish immigrants at the turn of the 20th century is there a more</span>\n",
       "<span style=\"color: #008000; text-decoration-color: #008000\">New'</span>,\n",
       "    <span style=\"color: #008000; text-decoration-color: #008000\">\"York City breakfast than this debatable well you can tell they mean business when 12 30 on a Monday there's </span>\n",
       "<span style=\"color: #008000; text-decoration-color: #008000\">already\"</span>\n",
       "<span style=\"font-weight: bold\">]</span>\n",
       "</pre>\n"
      ],
      "text/plain": [
       "\u001b[1m[\u001b[0m\n",
       "    \u001b[32m\"New York City has some absolutely iconic food and today that's all I'm going to be eating we'll show you New\"\u001b[0m,\n",
       "    \u001b[32m\"York's best bagels hot dogs Pastrami and more get ready for the ultimate NYC food tour and this video is \u001b[0m\n",
       "\u001b[32mfilmed\"\u001b[0m,\n",
       "    \u001b[32m'in order so you can literally turn this into a bucket list New York City Food Adventure if you want The Bagel \u001b[0m\n",
       "\u001b[32mthe breakfast'\u001b[0m,\n",
       "    \u001b[32m'icon of New York City brought here by polish Jewish immigrants at the turn of the 20th century is there a more\u001b[0m\n",
       "\u001b[32mNew'\u001b[0m,\n",
       "    \u001b[32m\"York City breakfast than this debatable well you can tell they mean business when 12 30 on a Monday there's \u001b[0m\n",
       "\u001b[32malready\"\u001b[0m\n",
       "\u001b[1m]\u001b[0m\n"
      ]
     },
     "metadata": {},
     "output_type": "display_data"
    }
   ],
   "source": [
    "node_parser = SentenceSplitter(chunk_size=25, chunk_overlap=0)\n",
    "chunks = node_parser.split_text(transcript_yt)\n",
    "rich.print (chunks [:5] )"
   ]
  },
  {
   "cell_type": "markdown",
   "id": "045cc714-0ab8-4aad-902d-953a9a7c94ca",
   "metadata": {},
   "source": [
    "note, because we don't have punctuation,  there is no difference between `TokenTextSplitter` and  `SentenceSplitter`"
   ]
  },
  {
   "cell_type": "code",
   "execution_count": null,
   "id": "3e09e1bd-49d5-4f62-b013-d7d589804f34",
   "metadata": {},
   "outputs": [],
   "source": []
  },
  {
   "cell_type": "markdown",
   "id": "fee567e2-f630-4739-a10a-23441d583e65",
   "metadata": {
    "tags": []
   },
   "source": [
    "## Chunking Video"
   ]
  },
  {
   "cell_type": "markdown",
   "id": "efbe7585-df7a-4d7b-b579-ffb7d98d4432",
   "metadata": {},
   "source": [
    "A video is composed of image frames.\n",
    "\n",
    "Frames per Second (FPS) is one measurement used to capture quality of video.  \n",
    "\n",
    "More FPS, the smoother the video transitions."
   ]
  },
  {
   "cell_type": "code",
   "execution_count": null,
   "id": "8d33840b-2599-4ed2-b973-796b1670be84",
   "metadata": {},
   "outputs": [],
   "source": []
  },
  {
   "cell_type": "code",
   "execution_count": 25,
   "id": "74b55955-2728-4397-9011-75f077a89896",
   "metadata": {
    "tags": []
   },
   "outputs": [
    {
     "data": {
      "image/png": "[encoded data removed]",
      "text/plain": [
       "<IPython.core.display.Image object>"
      ]
     },
     "execution_count": 25,
     "metadata": {
      "image/png": {
       "height": 700,
       "width": 700
      }
     },
     "output_type": "execute_result"
    }
   ],
   "source": [
    "Image(filename= \"../images/Frame_Rate_Visualization.png\", width=700, height=700)\n",
    "\n",
    "# Image Reference: \n",
    "#[PCGaming Wiki](https://www.pcgamingwiki.com/wiki/Glossary:Frame_rate_(FPS))"
   ]
  },
  {
   "cell_type": "markdown",
   "id": "315257a9-b430-467b-a926-d538b90b2400",
   "metadata": {},
   "source": [
    "For our use case (lectures), we can just sample couple of frames per second"
   ]
  },
  {
   "cell_type": "code",
   "execution_count": 26,
   "id": "a86762a9-ad00-4262-994e-ca6d7a9beef8",
   "metadata": {
    "tags": []
   },
   "outputs": [],
   "source": [
    "video_file_path = \"../data/ODluYyMZzs0/video.mp4\"\n",
    "output_path =  \"../data/ODluYyMZzs0/images\""
   ]
  },
  {
   "cell_type": "code",
   "execution_count": 27,
   "id": "cb0d33c4-f3fd-4e86-b204-8a4748ee747c",
   "metadata": {
    "tags": []
   },
   "outputs": [],
   "source": [
    "from moviepy.editor import VideoFileClip\n",
    "import os"
   ]
  },
  {
   "cell_type": "code",
   "execution_count": 28,
   "id": "433171b0-1054-4bca-b146-e194bb4d9c09",
   "metadata": {
    "tags": []
   },
   "outputs": [],
   "source": [
    "clip = VideoFileClip(video_file_path)\n"
   ]
  },
  {
   "cell_type": "code",
   "execution_count": 29,
   "id": "5fc589b2-4d36-4b26-8a4a-c2228128cf56",
   "metadata": {},
   "outputs": [],
   "source": [
    "fps = 0.2"
   ]
  },
  {
   "cell_type": "code",
   "execution_count": 30,
   "id": "d1d5d804-2b51-4466-bb66-f3b413720596",
   "metadata": {
    "tags": []
   },
   "outputs": [
    {
     "name": "stdout",
     "output_type": "stream",
     "text": [
      "\n",
      "\n",
      "Video Length : 756.76\n",
      "Video Resolution : [640, 360]\n",
      "FPS : 0.2\n",
      "Total Images : 151.352\n",
      "\n",
      "\n",
      "\n"
     ]
    }
   ],
   "source": [
    "print (f\"\"\"\n",
    "\n",
    "Video Length : {clip.duration}\n",
    "Video Resolution : {clip.size}\n",
    "FPS : {fps}\n",
    "Total Images : {clip.duration * fps}\n",
    "\n",
    "\n",
    "\"\"\")"
   ]
  },
  {
   "cell_type": "code",
   "execution_count": null,
   "id": "2cd9101a-e418-4dce-a3c8-2c95cd2bf784",
   "metadata": {},
   "outputs": [],
   "source": []
  },
  {
   "cell_type": "code",
   "execution_count": null,
   "id": "4f20e32f-4428-4da1-8e32-ddb1ce13a9ee",
   "metadata": {},
   "outputs": [],
   "source": []
  },
  {
   "cell_type": "code",
   "execution_count": 31,
   "id": "a827fe1c-b82a-4f0d-9d43-fba497c3ba12",
   "metadata": {
    "tags": []
   },
   "outputs": [
    {
     "name": "stdout",
     "output_type": "stream",
     "text": [
      "Moviepy - Writing frames ../data/ODluYyMZzs0/images/frame%04d.png.\n"
     ]
    },
    {
     "name": "stderr",
     "output_type": "stream",
     "text": [
      "                                                              "
     ]
    },
    {
     "name": "stdout",
     "output_type": "stream",
     "text": [
      "Moviepy - Done writing frames ../data/ODluYyMZzs0/images/frame%04d.png.\n"
     ]
    },
    {
     "name": "stderr",
     "output_type": "stream",
     "text": [
      "\r"
     ]
    },
    {
     "data": {
      "text/plain": [
       "['../data/ODluYyMZzs0/images/frame0000.png',\n",
       " '../data/ODluYyMZzs0/images/frame0001.png',\n",
       " '../data/ODluYyMZzs0/images/frame0002.png',\n",
       " '../data/ODluYyMZzs0/images/frame0003.png',\n",
       " '../data/ODluYyMZzs0/images/frame0004.png',\n",
       " '../data/ODluYyMZzs0/images/frame0005.png',\n",
       " '../data/ODluYyMZzs0/images/frame0006.png',\n",
       " '../data/ODluYyMZzs0/images/frame0007.png',\n",
       " '../data/ODluYyMZzs0/images/frame0008.png',\n",
       " '../data/ODluYyMZzs0/images/frame0009.png',\n",
       " '../data/ODluYyMZzs0/images/frame0010.png',\n",
       " '../data/ODluYyMZzs0/images/frame0011.png',\n",
       " '../data/ODluYyMZzs0/images/frame0012.png',\n",
       " '../data/ODluYyMZzs0/images/frame0013.png',\n",
       " '../data/ODluYyMZzs0/images/frame0014.png',\n",
       " '../data/ODluYyMZzs0/images/frame0015.png',\n",
       " '../data/ODluYyMZzs0/images/frame0016.png',\n",
       " '../data/ODluYyMZzs0/images/frame0017.png',\n",
       " '../data/ODluYyMZzs0/images/frame0018.png',\n",
       " '../data/ODluYyMZzs0/images/frame0019.png',\n",
       " '../data/ODluYyMZzs0/images/frame0020.png',\n",
       " '../data/ODluYyMZzs0/images/frame0021.png',\n",
       " '../data/ODluYyMZzs0/images/frame0022.png',\n",
       " '../data/ODluYyMZzs0/images/frame0023.png',\n",
       " '../data/ODluYyMZzs0/images/frame0024.png',\n",
       " '../data/ODluYyMZzs0/images/frame0025.png',\n",
       " '../data/ODluYyMZzs0/images/frame0026.png',\n",
       " '../data/ODluYyMZzs0/images/frame0027.png',\n",
       " '../data/ODluYyMZzs0/images/frame0028.png',\n",
       " '../data/ODluYyMZzs0/images/frame0029.png',\n",
       " '../data/ODluYyMZzs0/images/frame0030.png',\n",
       " '../data/ODluYyMZzs0/images/frame0031.png',\n",
       " '../data/ODluYyMZzs0/images/frame0032.png',\n",
       " '../data/ODluYyMZzs0/images/frame0033.png',\n",
       " '../data/ODluYyMZzs0/images/frame0034.png',\n",
       " '../data/ODluYyMZzs0/images/frame0035.png',\n",
       " '../data/ODluYyMZzs0/images/frame0036.png',\n",
       " '../data/ODluYyMZzs0/images/frame0037.png',\n",
       " '../data/ODluYyMZzs0/images/frame0038.png',\n",
       " '../data/ODluYyMZzs0/images/frame0039.png',\n",
       " '../data/ODluYyMZzs0/images/frame0040.png',\n",
       " '../data/ODluYyMZzs0/images/frame0041.png',\n",
       " '../data/ODluYyMZzs0/images/frame0042.png',\n",
       " '../data/ODluYyMZzs0/images/frame0043.png',\n",
       " '../data/ODluYyMZzs0/images/frame0044.png',\n",
       " '../data/ODluYyMZzs0/images/frame0045.png',\n",
       " '../data/ODluYyMZzs0/images/frame0046.png',\n",
       " '../data/ODluYyMZzs0/images/frame0047.png',\n",
       " '../data/ODluYyMZzs0/images/frame0048.png',\n",
       " '../data/ODluYyMZzs0/images/frame0049.png',\n",
       " '../data/ODluYyMZzs0/images/frame0050.png',\n",
       " '../data/ODluYyMZzs0/images/frame0051.png',\n",
       " '../data/ODluYyMZzs0/images/frame0052.png',\n",
       " '../data/ODluYyMZzs0/images/frame0053.png',\n",
       " '../data/ODluYyMZzs0/images/frame0054.png',\n",
       " '../data/ODluYyMZzs0/images/frame0055.png',\n",
       " '../data/ODluYyMZzs0/images/frame0056.png',\n",
       " '../data/ODluYyMZzs0/images/frame0057.png',\n",
       " '../data/ODluYyMZzs0/images/frame0058.png',\n",
       " '../data/ODluYyMZzs0/images/frame0059.png',\n",
       " '../data/ODluYyMZzs0/images/frame0060.png',\n",
       " '../data/ODluYyMZzs0/images/frame0061.png',\n",
       " '../data/ODluYyMZzs0/images/frame0062.png',\n",
       " '../data/ODluYyMZzs0/images/frame0063.png',\n",
       " '../data/ODluYyMZzs0/images/frame0064.png',\n",
       " '../data/ODluYyMZzs0/images/frame0065.png',\n",
       " '../data/ODluYyMZzs0/images/frame0066.png',\n",
       " '../data/ODluYyMZzs0/images/frame0067.png',\n",
       " '../data/ODluYyMZzs0/images/frame0068.png',\n",
       " '../data/ODluYyMZzs0/images/frame0069.png',\n",
       " '../data/ODluYyMZzs0/images/frame0070.png',\n",
       " '../data/ODluYyMZzs0/images/frame0071.png',\n",
       " '../data/ODluYyMZzs0/images/frame0072.png',\n",
       " '../data/ODluYyMZzs0/images/frame0073.png',\n",
       " '../data/ODluYyMZzs0/images/frame0074.png',\n",
       " '../data/ODluYyMZzs0/images/frame0075.png',\n",
       " '../data/ODluYyMZzs0/images/frame0076.png',\n",
       " '../data/ODluYyMZzs0/images/frame0077.png',\n",
       " '../data/ODluYyMZzs0/images/frame0078.png',\n",
       " '../data/ODluYyMZzs0/images/frame0079.png',\n",
       " '../data/ODluYyMZzs0/images/frame0080.png',\n",
       " '../data/ODluYyMZzs0/images/frame0081.png',\n",
       " '../data/ODluYyMZzs0/images/frame0082.png',\n",
       " '../data/ODluYyMZzs0/images/frame0083.png',\n",
       " '../data/ODluYyMZzs0/images/frame0084.png',\n",
       " '../data/ODluYyMZzs0/images/frame0085.png',\n",
       " '../data/ODluYyMZzs0/images/frame0086.png',\n",
       " '../data/ODluYyMZzs0/images/frame0087.png',\n",
       " '../data/ODluYyMZzs0/images/frame0088.png',\n",
       " '../data/ODluYyMZzs0/images/frame0089.png',\n",
       " '../data/ODluYyMZzs0/images/frame0090.png',\n",
       " '../data/ODluYyMZzs0/images/frame0091.png',\n",
       " '../data/ODluYyMZzs0/images/frame0092.png',\n",
       " '../data/ODluYyMZzs0/images/frame0093.png',\n",
       " '../data/ODluYyMZzs0/images/frame0094.png',\n",
       " '../data/ODluYyMZzs0/images/frame0095.png',\n",
       " '../data/ODluYyMZzs0/images/frame0096.png',\n",
       " '../data/ODluYyMZzs0/images/frame0097.png',\n",
       " '../data/ODluYyMZzs0/images/frame0098.png',\n",
       " '../data/ODluYyMZzs0/images/frame0099.png',\n",
       " '../data/ODluYyMZzs0/images/frame0100.png',\n",
       " '../data/ODluYyMZzs0/images/frame0101.png',\n",
       " '../data/ODluYyMZzs0/images/frame0102.png',\n",
       " '../data/ODluYyMZzs0/images/frame0103.png',\n",
       " '../data/ODluYyMZzs0/images/frame0104.png',\n",
       " '../data/ODluYyMZzs0/images/frame0105.png',\n",
       " '../data/ODluYyMZzs0/images/frame0106.png',\n",
       " '../data/ODluYyMZzs0/images/frame0107.png',\n",
       " '../data/ODluYyMZzs0/images/frame0108.png',\n",
       " '../data/ODluYyMZzs0/images/frame0109.png',\n",
       " '../data/ODluYyMZzs0/images/frame0110.png',\n",
       " '../data/ODluYyMZzs0/images/frame0111.png',\n",
       " '../data/ODluYyMZzs0/images/frame0112.png',\n",
       " '../data/ODluYyMZzs0/images/frame0113.png',\n",
       " '../data/ODluYyMZzs0/images/frame0114.png',\n",
       " '../data/ODluYyMZzs0/images/frame0115.png',\n",
       " '../data/ODluYyMZzs0/images/frame0116.png',\n",
       " '../data/ODluYyMZzs0/images/frame0117.png',\n",
       " '../data/ODluYyMZzs0/images/frame0118.png',\n",
       " '../data/ODluYyMZzs0/images/frame0119.png',\n",
       " '../data/ODluYyMZzs0/images/frame0120.png',\n",
       " '../data/ODluYyMZzs0/images/frame0121.png',\n",
       " '../data/ODluYyMZzs0/images/frame0122.png',\n",
       " '../data/ODluYyMZzs0/images/frame0123.png',\n",
       " '../data/ODluYyMZzs0/images/frame0124.png',\n",
       " '../data/ODluYyMZzs0/images/frame0125.png',\n",
       " '../data/ODluYyMZzs0/images/frame0126.png',\n",
       " '../data/ODluYyMZzs0/images/frame0127.png',\n",
       " '../data/ODluYyMZzs0/images/frame0128.png',\n",
       " '../data/ODluYyMZzs0/images/frame0129.png',\n",
       " '../data/ODluYyMZzs0/images/frame0130.png',\n",
       " '../data/ODluYyMZzs0/images/frame0131.png',\n",
       " '../data/ODluYyMZzs0/images/frame0132.png',\n",
       " '../data/ODluYyMZzs0/images/frame0133.png',\n",
       " '../data/ODluYyMZzs0/images/frame0134.png',\n",
       " '../data/ODluYyMZzs0/images/frame0135.png',\n",
       " '../data/ODluYyMZzs0/images/frame0136.png',\n",
       " '../data/ODluYyMZzs0/images/frame0137.png',\n",
       " '../data/ODluYyMZzs0/images/frame0138.png',\n",
       " '../data/ODluYyMZzs0/images/frame0139.png',\n",
       " '../data/ODluYyMZzs0/images/frame0140.png',\n",
       " '../data/ODluYyMZzs0/images/frame0141.png',\n",
       " '../data/ODluYyMZzs0/images/frame0142.png',\n",
       " '../data/ODluYyMZzs0/images/frame0143.png',\n",
       " '../data/ODluYyMZzs0/images/frame0144.png',\n",
       " '../data/ODluYyMZzs0/images/frame0145.png',\n",
       " '../data/ODluYyMZzs0/images/frame0146.png',\n",
       " '../data/ODluYyMZzs0/images/frame0147.png',\n",
       " '../data/ODluYyMZzs0/images/frame0148.png',\n",
       " '../data/ODluYyMZzs0/images/frame0149.png',\n",
       " '../data/ODluYyMZzs0/images/frame0150.png',\n",
       " '../data/ODluYyMZzs0/images/frame0151.png']"
      ]
     },
     "execution_count": 31,
     "metadata": {},
     "output_type": "execute_result"
    }
   ],
   "source": [
    "\n",
    "\n",
    "clip.write_images_sequence(\n",
    "    os.path.join(output_path, \"frame%04d.png\"), fps=fps\n",
    ")"
   ]
  },
  {
   "cell_type": "code",
   "execution_count": null,
   "id": "50c2819f-310f-4e21-b2d6-9659e5a51c95",
   "metadata": {},
   "outputs": [],
   "source": []
  },
  {
   "cell_type": "code",
   "execution_count": null,
   "id": "9be95c51-ff10-4164-ace9-10119852d1da",
   "metadata": {},
   "outputs": [],
   "source": []
  },
  {
   "cell_type": "code",
   "execution_count": null,
   "id": "3245a132-4696-4dbe-8fbf-74f2b764489b",
   "metadata": {},
   "outputs": [],
   "source": []
  },
  {
   "cell_type": "markdown",
   "id": "89dd04d8-3b5c-4cf8-8497-6ee016652e0a",
   "metadata": {},
   "source": [
    "## Notes"
   ]
  },
  {
   "cell_type": "markdown",
   "id": "cb823d49-0458-44a0-99c5-e49ec4c7497b",
   "metadata": {},
   "source": [
    "We learned about how words might be broken to tokens.\n",
    "\n",
    "How we can break documents to chunks.\n",
    "\n",
    "How a video might be broken to frames"
   ]
  },
  {
   "cell_type": "code",
   "execution_count": null,
   "id": "863f2b6e-a489-4aeb-afa3-4c6129e74dc2",
   "metadata": {},
   "outputs": [],
   "source": []
  }
 ],
 "metadata": {
  "environment": {
   "kernel": "conda-base-py",
   "name": "workbench-notebooks.m125",
   "type": "gcloud",
   "uri": "us-docker.pkg.dev/deeplearning-platform-release/gcr.io/workbench-notebooks:m125"
  },
  "kernelspec": {
   "display_name": "Python 3 (ipykernel) (Local)",
   "language": "python",
   "name": "conda-base-py"
  },
  "language_info": {
   "codemirror_mode": {
    "name": "ipython",
    "version": 3
   },
   "file_extension": ".py",
   "mimetype": "text/x-python",
   "name": "python",
   "nbconvert_exporter": "python",
   "pygments_lexer": "ipython3",
   "version": "3.10.15"
  }
 },
 "nbformat": 4,
 "nbformat_minor": 5
}
