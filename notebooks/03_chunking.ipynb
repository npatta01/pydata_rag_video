{
 "cells": [
  {
   "cell_type": "markdown",
   "id": "ed3dd436-9a17-4607-bc89-cfa2271aa2b5",
   "metadata": {},
   "source": [
    "# Notebook : Chunking\n"
   ]
  },
  {
   "cell_type": "code",
   "execution_count": null,
   "id": "3958d79a-f6ff-49a8-ac76-0c2efc197720",
   "metadata": {},
   "outputs": [],
   "source": []
  },
  {
   "cell_type": "markdown",
   "id": "e127b96f-0cd4-4131-998d-082186e90379",
   "metadata": {},
   "source": [
    "# About"
   ]
  },
  {
   "cell_type": "markdown",
   "id": "458f615c-8456-4771-a0f6-2c44ee4343ba",
   "metadata": {},
   "source": [
    "In this notebook, we will explore how to to break the text into manageable chunks using different strategy.\n",
    "\n",
    "- Fixed Character / Token Length\n",
    "- Recursive Character Chunking\n",
    "- Document Specific Chunking ( PDF, Markdown, HTML, Code)\n",
    "- Semantic Chunking\n"
   ]
  },
  {
   "cell_type": "code",
   "execution_count": null,
   "id": "d9b19bc1-992a-446e-9fc6-9b9d2f205aac",
   "metadata": {},
   "outputs": [],
   "source": []
  },
  {
   "cell_type": "code",
   "execution_count": 18,
   "id": "4ee158c8-fc1c-4771-b2bc-d0afa8960440",
   "metadata": {
    "tags": []
   },
   "outputs": [],
   "source": [
    "import rich"
   ]
  },
  {
   "cell_type": "markdown",
   "id": "6419f4aa-5d66-4114-bfb0-3cc28440f4b5",
   "metadata": {},
   "source": [
    "# Sample Transcript"
   ]
  },
  {
   "cell_type": "code",
   "execution_count": 1,
   "id": "0d8003cf-c461-47b0-8f71-86251b29492c",
   "metadata": {
    "tags": []
   },
   "outputs": [],
   "source": [
    "transcript = \"\"\"\n",
    "New York City has some absolutely iconic food and today that's all I'm going to be eating we'll show you New York's best bagels hot dogs Pastrami and more get ready for the ultimate NYC food tour and this video is filmed in order so you can literally turn this into a bucket list New York City Food Adventure if you want The Bagel the breakfast icon of New York City brought here by polish Jewish immigrants at the turn of the 20th century is there a more New York City breakfast than this debatable well you can tell they mean business when 12 30 on a Monday there's already a super long line an absolute I've heard from so many is the best bagel in New York City and this is the only spot in the video I've never been to so let's find out oh those look so good it's passing the visual test how are you can I get an everything bagel with scallion cream cheese please no thank you all right let's investigate this is the Story of My Life Line dies the second we head out [Music] everyone in New York generally thinks where they're from has the best bagels their neighborhood spot is the best and I've heard about absolute for years finally gonna be trying this legendary Bagel here Morningside Heights you know didn't see a single tourist in line it was like all Columbia students all right let's try this this looks amazing hmm chewy on the outside soft on the inside this is how a New York bagel has to be wow all these years living in the city a dozen years I never tried absolute people push me all the time to try it but I'm glad I finally came that first impression instantly this is going towards the top of my list for New York City Bagels [Music] we're eating so much food today that I did not want to get locks any of their salmon choices the appetizing stuff I want to try that at some point but I have to tell you I'm struggling right now to think of a better Bagel I've ever had in New York old statement coming I think this is the best bagel I've ever had in New York City I would put this in a textbook for a New York City Bagel and a very important note for you all hash only I saw people rushing out telling their friends they'll go to the ATM machine there was a little bit of confusion with that but they don't take pre-orders they don't do delivery they do one thing they do it well Bagels cash only and I mean they have that right they've earned it in my opinion absolute Bagels absolutely recommended what a start to this iconic New York City food tour foreign Ty more iconic in cinema than somebody grabbing a straight hot dog in the city well we've got Billy's here and the story with him is we included him in our best reviewed hot dog video last year and his hot dog stand really blew up an international popularity YouTube channels covered him a lot of my viewers from all over the world said he was fantastic let's go pay him a visit and see if he remembers us love it always a line Billy is a local Legend I've been coming to him since I was mid-30s oh wow I'm 67 years old 30 years huh best in the city well he's always here yeah people have been coming to this guy for decades remember me best reviewed hot dogs in New York City uh we're doing different spots hot dogs pastrami like the best of each category and your hot dog you deserve it man you deserve it oh yeah but you do a great job man so I just want to thank you too I appreciate it you got a hard job man you you got the whole neighborhood here you know no no yeah okay got the baby yes sir here he is six months he's a big boy you're right she was pregnant he tried your hot dog while still in the womb anything you want to say to the people thanks to everybody that's all thank you so much Billy all right okay guys I'll see you soon this is the best man heading to Central Park to Billy's hot dogs doesn't get much better than this Billy does his hot dogs good I'm telling you this is not your average Dirty Water Dog in New York City he puts a lot of love into this we have his onion sauce and some mustard real simple two dollars each nice snap love the onion sauce it's just a little bit of kick now of course you come here for the hot dog you come here for a good hot dog but what you're really coming for is somebody who's been in the neighborhood for well over 30 years for decades and when you go there even if you're not from New York City you're gonna feel like you're from New York City who talks to everybody he'll ask where you're from I'll ask how your day is going you want to feel like a local for just a little bit even if you're not come to Billy's hot dogs and then head to Central Park why not combine the two do Central Park right after the locations absolutely perfect and the hot dogs really good as well if you love New York food and want a really cool gift consider shopping at the online store my wife and I run over on Etsy she's got stickers prints and a whole lot more at really affordable prices ships worldwide see the link in the description [Music] the Jewish deli a New York institution my viewers constantly ask me where do you get a good pastrami sandwich I always point the massages over Katz's for a more local experience I love this spot I want to do the number three corned beef and pastrami always get that like every time and a dark brown celery many people say just get a pastrami I like to mix up the two when I come to sarges so we have rye bread on top of coleslaw Russian dressing then we have some of the fatter pastrami on top of the leaner corned beef so this is the ultimate Jewish deli sandwich in New York City right here you're probably gonna need a fork and knife I'm going to attempt to get at least a few bites for this thing topples over it's so rich so tender in flavor you just want double meat experience combined with that rye bread and the Russian dressing one of my favorite sandwiches in all of New York City and honestly something that I would say New York does better than any place else in the world the deli sandwich you can argue Pizza you can argue Bagels you can argue hot dogs Anthony Bourdain said it many times this is what New York is better than anybody and I think Sarge's does it better than the rest my personal opinion New Yorkers will fight either the death and who their favorites are but I'll tell you I don't see a single tourist in here I've had many of you out there call me out for not ordering doc Browns celery soda I've actually never had celery soda well that's really good I approved this pairing but bring your appetite when you come here sargis is interesting because for years and years they were open 24 hours but after the pandemic like many businesses they do now close at 10 pm so you can't come here at three o'clock in the morning and try to fight a hangover with a big pastrami sandwich anymore no shame using a fork and knife if you want to get your money's worth here no shame all right that was the uh the gut bomb of the video but we've got more [Music] everyone in New York has their favorite pizza spot Bleaker Street has always been mine I lived in the village for 10 years and it is by far my viewers favorite pick that I have ever recorded at I'm constantly getting tagged here so when I pick an iconic pizza spot for the video it's Bleaker Street oh you're welcome you saw this in my video yes yes how is it is it good it's good you approve okay if you guys approve I'm happy where are you from London but originally Estonia oh cool Welcome to New York they approve the pizza I'm happy [Music] wow thank you so much fresh Nona Maria dreams are made of this absolute favorite pizza in all New York City you know first and foremost I love the story of Bleecker Street Pizza it was opened by a retired police captain who served at Ground Zero during 9 11. and this was his grandma's recipe thin crust with fresh mozzarella homemade marinara sauce finest parmesan fresh basil and Parmigiano-Reggiano cheese I think that's like the missing ingredient in a lot of Pies right now in New York City you're seeing Parmigiano-Reggiano cheese being used which is imported from Italy and very very expensive here we go it's been too long since I've had this actually all of those premium ingredients together just hits different I'm telling you I'm not trying to compare this to your everyday New York City slice that's its own animal but this particular slice here it's a specialty it lies somewhere between the neapolitan pizza and a regular New York slice holds up really well nice undercarriage a lot of sauce a lot of cheese very Saucy you're into a saucy slice you are going to fall in love with the Nona Maria everybody behind me is ordering anona Maria this is by far what they're most known for I've had the other slices here before all very good but this this is what you travel to Bleaker Street Pizza for me oh where are you from Croatia was it good too good that's what I like to hear I think of all the places I've ever filmed this is the spot where people almost likely to say hi and it's really cool that a long time ago they put me on the wall of fame here so I don't know if there's a bigger honor in my life than being on the wall of my favorite pizza spot this is like a greatest hits album you know how musicians have their greatest hits one CD one album today's video is just like my favorites thank you a lot of tourists I meet are obsessed with trying New York cheesecake they run to spots like Junior as well I prefer Eileen's special cheesecake hi how can I help two of the classic planes we're just doing it we're doing a YouTube thing about the most iconic foods of New York so is the best you've taken the city that's what I tell people that's why I'm here [Music] they've been open almost 50 years for a reason they were telling me in there that they actually designed these special cheesecakes to be this small for all the tour groups from around the world and tourists that come in I mean I'm always singing their praises as well this is the plane a lot of cream cheese graham cracker crust makes it a little more unique this is really the only dessert I possibly could have had after all the food we feasted on today we will end with this cheesecake icon hello um so light so creamy I want the biggest cheesecake fan but for Eileen's I always make an exception and I just don't think you have to make a special trip to eat cheesecake if you're eating some huge meal and then you gotta force yourself to have dessert this is perfect because you're right on the edge of Soho here so you're probably going to be in the area at some point grab a quick dessert on the go and try New York's most famous dessert Choice cheesecake they baked so many of these so they're so busy they're always getting a fresh piece tart size cheesecake perfect for uh on the go or you could eat it inside remember I put all the addresses down below in the description you want to follow this and make it into a day let me know how it goes because pretty sure you're gonna like it if you like those iconic New York City food choices then you need to watch this video about Halal Street cards these are some of my favorites in the city head here next\n",
    "\n",
    "\"\"\""
   ]
  },
  {
   "cell_type": "code",
   "execution_count": 2,
   "id": "8f72d66f-9256-4437-80ce-bd3ac8551989",
   "metadata": {
    "tags": []
   },
   "outputs": [
    {
     "name": "stdout",
     "output_type": "stream",
     "text": [
      "\n",
      "New York City has some absolutely iconic food and today that's all I'm going to be eating we'll show you New York's best bagels hot dogs Pastrami and more get ready for the ultimate NYC food tour and this video is filmed in order so you can literally turn this into a bucket list New York City Food Adventure if you want The Bagel the breakfast icon of New York City brought here by polish Jewish immigrants at the turn of the 20th century is there a more New York City breakfast than this debatable well you can tell they mean business when 12 30 on a Monday there's already a super long line an absolute I've heard from so many is the best bagel in New York City and this is the only spot in the video I've never been to so let's find out oh those look so good it's passing the visual test how are you can I get an everything bagel with scallion cream cheese please no thank you all right let's investigate this is the Story of My Life Line dies the second we head out [Music] everyone in New York generally thinks where they're from has the best bagels their neighborhood spot is the best and I've heard about absolute for years finally gonna be trying this legendary Bagel here Morningside Heights you know didn't see a single tourist in line it was like all Columbia students all right let's try this this looks amazing hmm chewy on the outside soft on the inside this is how a New York bagel has to be wow all these years living in the city a dozen years I never tried absolute people push me all the time to try it but I'm glad I finally came that first impression instantly this is going towards the top of my list for New York City Bagels [Music] we're eating so much food today that I did not want to get locks any of their salmon choices the appetizing stuff I want to try that at some point but I have to tell you I'm struggling right now to think of a better Bagel I've ever had in New York old statement coming I think this is the best bagel I've ever had in New York City I would put this in a textbook for a New York City Bagel and a very important note for you all hash only I saw people rushing out telling their friends they'll go to the ATM machine there was a little bit of confusion with that but they don't take pre-orders they don't do delivery they do one thing they do it well Bagels cash only and I mean they have that right they've earned it in my opinion absolute Bagels absolutely recommended what a start to this iconic New York City food tour foreign Ty more iconic in cinema than somebody grabbing a straight hot dog in the city well we've got Billy's here and the story with him is we included him in our best reviewed hot dog video last year and his hot dog stand really blew up an international popularity YouTube channels covered him a lot of my viewers from all over the world said he was fantastic let's go pay him a visit and see if he remembers us love it always a line Billy is a local Legend I've been coming to him since I was mid-30s oh wow I'm 67 years old 30 years huh best in the city well he's always here yeah people have been coming to this guy for decades remember me best reviewed hot dogs in New York City uh we're doing different spots hot dogs pastrami like the best of each category and your hot dog you deserve it man you deserve it oh yeah but you do a great job man so I just want to thank you too I appreciate it you got a hard job man you you got the whole neighborhood here you know no no yeah okay got the baby yes sir here he is six months he's a big boy you're right she was pregnant he tried your hot dog while still in the womb anything you want to say to the people thanks to everybody that's all thank you so much Billy all right okay guys I'll see you soon this is the best man heading to Central Park to Billy's hot dogs doesn't get much better than this Billy does his hot dogs good I'm telling you this is not your average Dirty Water Dog in New York City he puts a lot of love into this we have his onion sauce and some mustard real simple two dollars each nice snap love the onion sauce it's just a little bit of kick now of course you come here for the hot dog you come here for a good hot dog but what you're really coming for is somebody who's been in the neighborhood for well over 30 years for decades and when you go there even if you're not from New York City you're gonna feel like you're from New York City who talks to everybody he'll ask where you're from I'll ask how your day is going you want to feel like a local for just a little bit even if you're not come to Billy's hot dogs and then head to Central Park why not combine the two do Central Park right after the locations absolutely perfect and the hot dogs really good as well if you love New York food and want a really cool gift consider shopping at the online store my wife and I run over on Etsy she's got stickers prints and a whole lot more at really affordable prices ships worldwide see the link in the description [Music] the Jewish deli a New York institution my viewers constantly ask me where do you get a good pastrami sandwich I always point the massages over Katz's for a more local experience I love this spot I want to do the number three corned beef and pastrami always get that like every time and a dark brown celery many people say just get a pastrami I like to mix up the two when I come to sarges so we have rye bread on top of coleslaw Russian dressing then we have some of the fatter pastrami on top of the leaner corned beef so this is the ultimate Jewish deli sandwich in New York City right here you're probably gonna need a fork and knife I'm going to attempt to get at least a few bites for this thing topples over it's so rich so tender in flavor you just want double meat experience combined with that rye bread and the Russian dressing one of my favorite sandwiches in all of New York City and honestly something that I would say New York does better than any place else in the world the deli sandwich you can argue Pizza you can argue Bagels you can argue hot dogs Anthony Bourdain said it many times this is what New York is better than anybody and I think Sarge's does it better than the rest my personal opinion New Yorkers will fight either the death and who their favorites are but I'll tell you I don't see a single tourist in here I've had many of you out there call me out for not ordering doc Browns celery soda I've actually never had celery soda well that's really good I approved this pairing but bring your appetite when you come here sargis is interesting because for years and years they were open 24 hours but after the pandemic like many businesses they do now close at 10 pm so you can't come here at three o'clock in the morning and try to fight a hangover with a big pastrami sandwich anymore no shame using a fork and knife if you want to get your money's worth here no shame all right that was the uh the gut bomb of the video but we've got more [Music] everyone in New York has their favorite pizza spot Bleaker Street has always been mine I lived in the village for 10 years and it is by far my viewers favorite pick that I have ever recorded at I'm constantly getting tagged here so when I pick an iconic pizza spot for the video it's Bleaker Street oh you're welcome you saw this in my video yes yes how is it is it good it's good you approve okay if you guys approve I'm happy where are you from London but originally Estonia oh cool Welcome to New York they approve the pizza I'm happy [Music] wow thank you so much fresh Nona Maria dreams are made of this absolute favorite pizza in all New York City you know first and foremost I love the story of Bleecker Street Pizza it was opened by a retired police captain who served at Ground Zero during 9 11. and this was his grandma's recipe thin crust with fresh mozzarella homemade marinara sauce finest parmesan fresh basil and Parmigiano-Reggiano cheese I think that's like the missing ingredient in a lot of Pies right now in New York City you're seeing Parmigiano-Reggiano cheese being used which is imported from Italy and very very expensive here we go it's been too long since I've had this actually all of those premium ingredients together just hits different I'm telling you I'm not trying to compare this to your everyday New York City slice that's its own animal but this particular slice here it's a specialty it lies somewhere between the neapolitan pizza and a regular New York slice holds up really well nice undercarriage a lot of sauce a lot of cheese very Saucy you're into a saucy slice you are going to fall in love with the Nona Maria everybody behind me is ordering anona Maria this is by far what they're most known for I've had the other slices here before all very good but this this is what you travel to Bleaker Street Pizza for me oh where are you from Croatia was it good too good that's what I like to hear I think of all the places I've ever filmed this is the spot where people almost likely to say hi and it's really cool that a long time ago they put me on the wall of fame here so I don't know if there's a bigger honor in my life than being on the wall of my favorite pizza spot this is like a greatest hits album you know how musicians have their greatest hits one CD one album today's video is just like my favorites thank you a lot of tourists I meet are obsessed with trying New York cheesecake they run to spots like Junior as well I prefer Eileen's special cheesecake hi how can I help two of the classic planes we're just doing it we're doing a YouTube thing about the most iconic foods of New York so is the best you've taken the city that's what I tell people that's why I'm here [Music] they've been open almost 50 years for a reason they were telling me in there that they actually designed these special cheesecakes to be this small for all the tour groups from around the world and tourists that come in I mean I'm always singing their praises as well this is the plane a lot of cream cheese graham cracker crust makes it a little more unique this is really the only dessert I possibly could have had after all the food we feasted on today we will end with this cheesecake icon hello um so light so creamy I want the biggest cheesecake fan but for Eileen's I always make an exception and I just don't think you have to make a special trip to eat cheesecake if you're eating some huge meal and then you gotta force yourself to have dessert this is perfect because you're right on the edge of Soho here so you're probably going to be in the area at some point grab a quick dessert on the go and try New York's most famous dessert Choice cheesecake they baked so many of these so they're so busy they're always getting a fresh piece tart size cheesecake perfect for uh on the go or you could eat it inside remember I put all the addresses down below in the description you want to follow this and make it into a day let me know how it goes because pretty sure you're gonna like it if you like those iconic New York City food choices then you need to watch this video about Halal Street cards these are some of my favorites in the city head here next\n",
      "\n",
      "\n"
     ]
    }
   ],
   "source": [
    "print (transcript)"
   ]
  },
  {
   "cell_type": "code",
   "execution_count": null,
   "id": "ef72a9fd-c773-4fd7-92d0-9b9f1b8fc468",
   "metadata": {},
   "outputs": [],
   "source": []
  },
  {
   "cell_type": "code",
   "execution_count": null,
   "id": "7bec1715-2c7b-43f5-a99d-be4ed152cc58",
   "metadata": {},
   "outputs": [],
   "source": []
  },
  {
   "cell_type": "markdown",
   "id": "f2f3e751-82d3-4531-9e09-1da1d2e2c80d",
   "metadata": {},
   "source": [
    "# Token Text Splitter"
   ]
  },
  {
   "cell_type": "code",
   "execution_count": 10,
   "id": "e315b21f-d798-411b-b9b1-8ec15b696ab8",
   "metadata": {
    "tags": []
   },
   "outputs": [],
   "source": [
    "from llama_index.core.node_parser import TokenTextSplitter\n",
    "from llama_index.core import Document\n"
   ]
  },
  {
   "cell_type": "markdown",
   "id": "3c080852-c5b5-4e07-b696-488c0fd1c975",
   "metadata": {
    "tags": []
   },
   "source": [
    "![TokenTextSplitter](../images/token_text_splitter.png)\n"
   ]
  },
  {
   "cell_type": "code",
   "execution_count": 32,
   "id": "d999a25b-1625-428f-b739-1407c8edac27",
   "metadata": {
    "tags": []
   },
   "outputs": [],
   "source": [
    "node_parser = TokenTextSplitter(chunk_size=25, chunk_overlap=0)\n",
    "chunks = node_parser.split_text(transcript)"
   ]
  },
  {
   "cell_type": "code",
   "execution_count": 36,
   "id": "590c8757-9aeb-4700-bb5a-0982049a2e06",
   "metadata": {
    "tags": []
   },
   "outputs": [
    {
     "data": {
      "text/plain": [
       "(11153, 97)"
      ]
     },
     "execution_count": 36,
     "metadata": {},
     "output_type": "execute_result"
    }
   ],
   "source": [
    "len(transcript), len(chunks)"
   ]
  },
  {
   "cell_type": "code",
   "execution_count": null,
   "id": "700df907-2970-47a7-9397-ec99beac4d83",
   "metadata": {
    "tags": []
   },
   "outputs": [],
   "source": []
  },
  {
   "cell_type": "code",
   "execution_count": null,
   "id": "7fe5df0e-f37a-428a-a6f2-be07c5f3b0bf",
   "metadata": {
    "tags": []
   },
   "outputs": [],
   "source": []
  },
  {
   "cell_type": "code",
   "execution_count": 38,
   "id": "6c766883-aa82-45d2-8007-0426eb075d8b",
   "metadata": {
    "tags": []
   },
   "outputs": [
    {
     "data": {
      "text/html": [
       "<pre style=\"white-space:pre;overflow-x:auto;line-height:normal;font-family:Menlo,'DejaVu Sans Mono',consolas,'Courier New',monospace\"><span style=\"font-weight: bold\">[</span>\n",
       "    <span style=\"color: #008000; text-decoration-color: #008000\">\"New York City has some absolutely iconic food and today that's all I'm going to be eating we'll show you New\"</span>,\n",
       "    <span style=\"color: #008000; text-decoration-color: #008000\">\"York's best bagels hot dogs Pastrami and more get ready for the ultimate NYC food tour and this video is </span>\n",
       "<span style=\"color: #008000; text-decoration-color: #008000\">filmed\"</span>,\n",
       "    <span style=\"color: #008000; text-decoration-color: #008000\">'in order so you can literally turn this into a bucket list New York City Food Adventure if you want The Bagel </span>\n",
       "<span style=\"color: #008000; text-decoration-color: #008000\">the breakfast'</span>,\n",
       "    <span style=\"color: #008000; text-decoration-color: #008000\">'icon of New York City brought here by polish Jewish immigrants at the turn of the 20th century is there a more</span>\n",
       "<span style=\"color: #008000; text-decoration-color: #008000\">New'</span>,\n",
       "    <span style=\"color: #008000; text-decoration-color: #008000\">\"York City breakfast than this debatable well you can tell they mean business when 12 30 on a Monday there's </span>\n",
       "<span style=\"color: #008000; text-decoration-color: #008000\">already\"</span>\n",
       "<span style=\"font-weight: bold\">]</span>\n",
       "</pre>\n"
      ],
      "text/plain": [
       "\u001b[1m[\u001b[0m\n",
       "    \u001b[32m\"New York City has some absolutely iconic food and today that's all I'm going to be eating we'll show you New\"\u001b[0m,\n",
       "    \u001b[32m\"York's best bagels hot dogs Pastrami and more get ready for the ultimate NYC food tour and this video is \u001b[0m\n",
       "\u001b[32mfilmed\"\u001b[0m,\n",
       "    \u001b[32m'in order so you can literally turn this into a bucket list New York City Food Adventure if you want The Bagel \u001b[0m\n",
       "\u001b[32mthe breakfast'\u001b[0m,\n",
       "    \u001b[32m'icon of New York City brought here by polish Jewish immigrants at the turn of the 20th century is there a more\u001b[0m\n",
       "\u001b[32mNew'\u001b[0m,\n",
       "    \u001b[32m\"York City breakfast than this debatable well you can tell they mean business when 12 30 on a Monday there's \u001b[0m\n",
       "\u001b[32malready\"\u001b[0m\n",
       "\u001b[1m]\u001b[0m\n"
      ]
     },
     "metadata": {},
     "output_type": "display_data"
    }
   ],
   "source": [
    "rich.print (chunks [:5] )"
   ]
  },
  {
   "cell_type": "code",
   "execution_count": null,
   "id": "1bf7d1fb-96a5-4c9c-a30d-8fc4d4dec150",
   "metadata": {},
   "outputs": [],
   "source": []
  },
  {
   "cell_type": "code",
   "execution_count": null,
   "id": "4f260e4d-decb-4215-a5a3-e6cfa0cdc236",
   "metadata": {},
   "outputs": [],
   "source": []
  },
  {
   "cell_type": "code",
   "execution_count": 39,
   "id": "5b52cd81-6ddd-4b18-ba3f-e59dd435d033",
   "metadata": {
    "tags": []
   },
   "outputs": [],
   "source": [
    "node_parser = TokenTextSplitter(chunk_size=25, chunk_overlap=5)\n",
    "chunks = node_parser.split_text(transcript)"
   ]
  },
  {
   "cell_type": "code",
   "execution_count": 40,
   "id": "308942fc-37c9-43b7-ac50-67df89c49203",
   "metadata": {
    "tags": []
   },
   "outputs": [
    {
     "data": {
      "text/plain": [
       "(11153, 120)"
      ]
     },
     "execution_count": 40,
     "metadata": {},
     "output_type": "execute_result"
    }
   ],
   "source": [
    "len(transcript), len(chunks)"
   ]
  },
  {
   "cell_type": "code",
   "execution_count": 41,
   "id": "34bf150a-61b4-4368-9717-618dd27a273f",
   "metadata": {
    "tags": []
   },
   "outputs": [
    {
     "data": {
      "text/html": [
       "<pre style=\"white-space:pre;overflow-x:auto;line-height:normal;font-family:Menlo,'DejaVu Sans Mono',consolas,'Courier New',monospace\"><span style=\"font-weight: bold\">[</span>\n",
       "    <span style=\"color: #008000; text-decoration-color: #008000\">\"New York City has some absolutely iconic food and today that's all I'm going to be eating we'll show you New\"</span>,\n",
       "    <span style=\"color: #008000; text-decoration-color: #008000\">\"we'll show you New York's best bagels hot dogs Pastrami and more get ready for the ultimate NYC food tour\"</span>,\n",
       "    <span style=\"color: #008000; text-decoration-color: #008000\">'the ultimate NYC food tour and this video is filmed in order so you can literally turn this into a bucket list</span>\n",
       "<span style=\"color: #008000; text-decoration-color: #008000\">New York City'</span>,\n",
       "    <span style=\"color: #008000; text-decoration-color: #008000\">'bucket list New York City Food Adventure if you want The Bagel the breakfast icon of New York City brought </span>\n",
       "<span style=\"color: #008000; text-decoration-color: #008000\">here by polish Jewish'</span>,\n",
       "    <span style=\"color: #008000; text-decoration-color: #008000\">'brought here by polish Jewish immigrants at the turn of the 20th century is there a more New York City </span>\n",
       "<span style=\"color: #008000; text-decoration-color: #008000\">breakfast than this'</span>\n",
       "<span style=\"font-weight: bold\">]</span>\n",
       "</pre>\n"
      ],
      "text/plain": [
       "\u001b[1m[\u001b[0m\n",
       "    \u001b[32m\"New York City has some absolutely iconic food and today that's all I'm going to be eating we'll show you New\"\u001b[0m,\n",
       "    \u001b[32m\"we'll show you New York's best bagels hot dogs Pastrami and more get ready for the ultimate NYC food tour\"\u001b[0m,\n",
       "    \u001b[32m'the ultimate NYC food tour and this video is filmed in order so you can literally turn this into a bucket list\u001b[0m\n",
       "\u001b[32mNew York City'\u001b[0m,\n",
       "    \u001b[32m'bucket list New York City Food Adventure if you want The Bagel the breakfast icon of New York City brought \u001b[0m\n",
       "\u001b[32mhere by polish Jewish'\u001b[0m,\n",
       "    \u001b[32m'brought here by polish Jewish immigrants at the turn of the 20th century is there a more New York City \u001b[0m\n",
       "\u001b[32mbreakfast than this'\u001b[0m\n",
       "\u001b[1m]\u001b[0m\n"
      ]
     },
     "metadata": {},
     "output_type": "display_data"
    }
   ],
   "source": [
    "rich.print (chunks [:5] )"
   ]
  },
  {
   "cell_type": "markdown",
   "id": "a6251e1b-beb7-48fd-a28f-d67339da1306",
   "metadata": {},
   "source": [
    "# Sentence Splitter"
   ]
  },
  {
   "cell_type": "code",
   "execution_count": 42,
   "id": "189d43b4-22b4-46b9-b9a4-6f945923bab2",
   "metadata": {
    "tags": []
   },
   "outputs": [],
   "source": [
    "from llama_index.core.node_parser import SentenceSplitter\n"
   ]
  },
  {
   "cell_type": "code",
   "execution_count": 43,
   "id": "34c469f2-044c-484b-8cea-cf9891009a57",
   "metadata": {
    "tags": []
   },
   "outputs": [],
   "source": [
    "node_parser = SentenceSplitter(chunk_size=25, chunk_overlap=5)\n",
    "chunks = node_parser.split_text(transcript)"
   ]
  },
  {
   "cell_type": "code",
   "execution_count": 44,
   "id": "a213efe4-66a5-4188-a45e-b46273f12cd7",
   "metadata": {
    "tags": []
   },
   "outputs": [
    {
     "data": {
      "text/plain": [
       "(11153, 120)"
      ]
     },
     "execution_count": 44,
     "metadata": {},
     "output_type": "execute_result"
    }
   ],
   "source": [
    "len(transcript), len(chunks)"
   ]
  },
  {
   "cell_type": "code",
   "execution_count": 45,
   "id": "493e5bb9-e4e5-49aa-ab0c-e3fd66f98a72",
   "metadata": {
    "tags": []
   },
   "outputs": [
    {
     "data": {
      "text/html": [
       "<pre style=\"white-space:pre;overflow-x:auto;line-height:normal;font-family:Menlo,'DejaVu Sans Mono',consolas,'Courier New',monospace\"><span style=\"font-weight: bold\">[</span>\n",
       "    <span style=\"color: #008000; text-decoration-color: #008000\">\"New York City has some absolutely iconic food and today that's all I'm going to be eating we'll show you New\"</span>,\n",
       "    <span style=\"color: #008000; text-decoration-color: #008000\">\"we'll show you New York's best bagels hot dogs Pastrami and more get ready for the ultimate NYC food tour\"</span>,\n",
       "    <span style=\"color: #008000; text-decoration-color: #008000\">'the ultimate NYC food tour and this video is filmed in order so you can literally turn this into a bucket list</span>\n",
       "<span style=\"color: #008000; text-decoration-color: #008000\">New York City'</span>,\n",
       "    <span style=\"color: #008000; text-decoration-color: #008000\">'bucket list New York City Food Adventure if you want The Bagel the breakfast icon of New York City brought </span>\n",
       "<span style=\"color: #008000; text-decoration-color: #008000\">here by polish Jewish'</span>,\n",
       "    <span style=\"color: #008000; text-decoration-color: #008000\">'brought here by polish Jewish immigrants at the turn of the 20th century is there a more New York City </span>\n",
       "<span style=\"color: #008000; text-decoration-color: #008000\">breakfast than this'</span>\n",
       "<span style=\"font-weight: bold\">]</span>\n",
       "</pre>\n"
      ],
      "text/plain": [
       "\u001b[1m[\u001b[0m\n",
       "    \u001b[32m\"New York City has some absolutely iconic food and today that's all I'm going to be eating we'll show you New\"\u001b[0m,\n",
       "    \u001b[32m\"we'll show you New York's best bagels hot dogs Pastrami and more get ready for the ultimate NYC food tour\"\u001b[0m,\n",
       "    \u001b[32m'the ultimate NYC food tour and this video is filmed in order so you can literally turn this into a bucket list\u001b[0m\n",
       "\u001b[32mNew York City'\u001b[0m,\n",
       "    \u001b[32m'bucket list New York City Food Adventure if you want The Bagel the breakfast icon of New York City brought \u001b[0m\n",
       "\u001b[32mhere by polish Jewish'\u001b[0m,\n",
       "    \u001b[32m'brought here by polish Jewish immigrants at the turn of the 20th century is there a more New York City \u001b[0m\n",
       "\u001b[32mbreakfast than this'\u001b[0m\n",
       "\u001b[1m]\u001b[0m\n"
      ]
     },
     "metadata": {},
     "output_type": "display_data"
    }
   ],
   "source": [
    "rich.print (chunks [:5] )"
   ]
  },
  {
   "cell_type": "code",
   "execution_count": null,
   "id": "ffb32820-326b-4c84-9a2d-32ff5f3c249e",
   "metadata": {},
   "outputs": [],
   "source": []
  },
  {
   "cell_type": "markdown",
   "id": "af67a2bf-bf6b-4c29-ac8e-ee2a3b242ac7",
   "metadata": {},
   "source": [
    "# Example with sentences"
   ]
  },
  {
   "cell_type": "code",
   "execution_count": 47,
   "id": "0876a94d-065a-4728-91a6-43d5cc6d56fa",
   "metadata": {
    "tags": []
   },
   "outputs": [],
   "source": [
    "transcript_sentence = f\"\"\"\n",
    "\n",
    "New York City has some absolutely iconic food and today that's all I'm going to be eating.\n",
    "We'll show you New York's best bagels hot dogs Pastrami and more.  \n",
    "Get ready for the ultimate NYC food tour and this video is filmed in order so you can literally turn this into a bucket list New York City Food Adventure. \n",
    "\"\"\""
   ]
  },
  {
   "cell_type": "code",
   "execution_count": 48,
   "id": "a45d8782-b428-4325-b8e5-f04034350381",
   "metadata": {
    "tags": []
   },
   "outputs": [
    {
     "data": {
      "text/html": [
       "<pre style=\"white-space:pre;overflow-x:auto;line-height:normal;font-family:Menlo,'DejaVu Sans Mono',consolas,'Courier New',monospace\">\n",
       "\n",
       "New York City has some absolutely iconic food and today that's all I'm going to be eating.\n",
       "We'll show you New York's best bagels hot dogs Pastrami and more.  \n",
       "Get ready for the ultimate NYC food tour and this video is filmed in order so you can literally turn this into a \n",
       "bucket list New York City Food Adventure. \n",
       "\n",
       "</pre>\n"
      ],
      "text/plain": [
       "\n",
       "\n",
       "New York City has some absolutely iconic food and today that's all I'm going to be eating.\n",
       "We'll show you New York's best bagels hot dogs Pastrami and more.  \n",
       "Get ready for the ultimate NYC food tour and this video is filmed in order so you can literally turn this into a \n",
       "bucket list New York City Food Adventure. \n",
       "\n"
      ]
     },
     "metadata": {},
     "output_type": "display_data"
    }
   ],
   "source": [
    "rich.print(transcript_sentence)"
   ]
  },
  {
   "cell_type": "code",
   "execution_count": 53,
   "id": "e234564c-ed5a-455a-ab27-594c07acd714",
   "metadata": {
    "tags": []
   },
   "outputs": [
    {
     "data": {
      "text/html": [
       "<pre style=\"white-space:pre;overflow-x:auto;line-height:normal;font-family:Menlo,'DejaVu Sans Mono',consolas,'Courier New',monospace\"><span style=\"font-weight: bold\">[</span>\n",
       "    <span style=\"color: #008000; text-decoration-color: #008000\">\"New York City has some absolutely iconic food and today that's all I'm going to be eating.\\nWe'll show you\"</span>,\n",
       "    <span style=\"color: #008000; text-decoration-color: #008000\">\"New York's best bagels hot dogs Pastrami and more.  \\nGet ready for the ultimate NYC food tour and\"</span>,\n",
       "    <span style=\"color: #008000; text-decoration-color: #008000\">'this video is filmed in order so you can literally turn this into a bucket list New York City Food Adventure.'</span>\n",
       "<span style=\"font-weight: bold\">]</span>\n",
       "</pre>\n"
      ],
      "text/plain": [
       "\u001b[1m[\u001b[0m\n",
       "    \u001b[32m\"New York City has some absolutely iconic food and today that's all I'm going to be eating.\\nWe'll show you\"\u001b[0m,\n",
       "    \u001b[32m\"New York's best bagels hot dogs Pastrami and more.  \\nGet ready for the ultimate NYC food tour and\"\u001b[0m,\n",
       "    \u001b[32m'this video is filmed in order so you can literally turn this into a bucket list New York City Food Adventure.'\u001b[0m\n",
       "\u001b[1m]\u001b[0m\n"
      ]
     },
     "metadata": {},
     "output_type": "display_data"
    }
   ],
   "source": [
    "node_parser = TokenTextSplitter(chunk_size=25, chunk_overlap=0)\n",
    "chunks = node_parser.split_text(transcript_sentence)\n",
    "rich.print (chunks [:5] )"
   ]
  },
  {
   "cell_type": "code",
   "execution_count": 51,
   "id": "21119d4f-24fd-439d-a64e-478f99ecd6c2",
   "metadata": {
    "tags": []
   },
   "outputs": [
    {
     "data": {
      "text/html": [
       "<pre style=\"white-space:pre;overflow-x:auto;line-height:normal;font-family:Menlo,'DejaVu Sans Mono',consolas,'Courier New',monospace\"><span style=\"font-weight: bold\">[</span>\n",
       "    <span style=\"color: #008000; text-decoration-color: #008000\">\"New York City has some absolutely iconic food and today that's all I'm going to be eating.\"</span>,\n",
       "    <span style=\"color: #008000; text-decoration-color: #008000\">\"We'll show you New York's best bagels hot dogs Pastrami and more.  \\nGet ready for the ultimate NYC\"</span>,\n",
       "    <span style=\"color: #008000; text-decoration-color: #008000\">'food tour and this video is filmed in order so you can literally turn this into a bucket list New York City </span>\n",
       "<span style=\"color: #008000; text-decoration-color: #008000\">Food Adventure.'</span>\n",
       "<span style=\"font-weight: bold\">]</span>\n",
       "</pre>\n"
      ],
      "text/plain": [
       "\u001b[1m[\u001b[0m\n",
       "    \u001b[32m\"New York City has some absolutely iconic food and today that's all I'm going to be eating.\"\u001b[0m,\n",
       "    \u001b[32m\"We'll show you New York's best bagels hot dogs Pastrami and more.  \\nGet ready for the ultimate NYC\"\u001b[0m,\n",
       "    \u001b[32m'food tour and this video is filmed in order so you can literally turn this into a bucket list New York City \u001b[0m\n",
       "\u001b[32mFood Adventure.'\u001b[0m\n",
       "\u001b[1m]\u001b[0m\n"
      ]
     },
     "metadata": {},
     "output_type": "display_data"
    }
   ],
   "source": [
    "node_parser = SentenceSplitter(chunk_size=25, chunk_overlap=0)\n",
    "chunks = node_parser.split_text(transcript_sentence)\n",
    "rich.print (chunks [:5] )"
   ]
  },
  {
   "cell_type": "code",
   "execution_count": null,
   "id": "093eeadb-df1f-491d-9d95-3a193053e88e",
   "metadata": {},
   "outputs": [],
   "source": []
  }
 ],
 "metadata": {
  "environment": {
   "kernel": "conda-base-py",
   "name": "workbench-notebooks.m125",
   "type": "gcloud",
   "uri": "us-docker.pkg.dev/deeplearning-platform-release/gcr.io/workbench-notebooks:m125"
  },
  "kernelspec": {
   "display_name": "Python 3 (ipykernel) (Local)",
   "language": "python",
   "name": "conda-base-py"
  },
  "language_info": {
   "codemirror_mode": {
    "name": "ipython",
    "version": 3
   },
   "file_extension": ".py",
   "mimetype": "text/x-python",
   "name": "python",
   "nbconvert_exporter": "python",
   "pygments_lexer": "ipython3",
   "version": "3.10.15"
  }
 },
 "nbformat": 4,
 "nbformat_minor": 5
}
