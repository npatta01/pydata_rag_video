{
 "cells": [
  {
   "cell_type": "markdown",
   "id": "ed3dd436-9a17-4607-bc89-cfa2271aa2b5",
   "metadata": {},
   "source": [
    "# Notebook : Chunking\n"
   ]
  },
  {
   "cell_type": "code",
   "execution_count": null,
   "id": "07ca40e0-a69b-4d86-998a-eeb9d02d71fd",
   "metadata": {},
   "outputs": [],
   "source": []
  }
 ],
 "metadata": {
  "environment": {
   "kernel": "conda-base-py",
   "name": "workbench-notebooks.m125",
   "type": "gcloud",
   "uri": "us-docker.pkg.dev/deeplearning-platform-release/gcr.io/workbench-notebooks:m125"
  },
  "kernelspec": {
   "display_name": "Python 3 (ipykernel) (Local)",
   "language": "python",
   "name": "conda-base-py"
  },
  "language_info": {
   "codemirror_mode": {
    "name": "ipython",
    "version": 3
   },
   "file_extension": ".py",
   "mimetype": "text/x-python",
   "name": "python",
   "nbconvert_exporter": "python",
   "pygments_lexer": "ipython3",
   "version": "3.10.15"
  }
 },
 "nbformat": 4,
 "nbformat_minor": 5
}
