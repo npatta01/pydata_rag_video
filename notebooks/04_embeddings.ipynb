{
 "cells": [
  {
   "cell_type": "markdown",
   "id": "8168b31e-c718-4a4c-899f-abf3f8672f5d",
   "metadata": {
    "tags": []
   },
   "source": [
    "# Notebook : Embeddings\n"
   ]
  },
  {
   "cell_type": "code",
   "execution_count": null,
   "id": "e44462c1-e55c-46f9-99b7-89864079873e",
   "metadata": {},
   "outputs": [],
   "source": []
  },
  {
   "cell_type": "code",
   "execution_count": null,
   "id": "41cc4b03-74f0-4463-a3bb-71d84d8d9084",
   "metadata": {},
   "outputs": [],
   "source": []
  },
  {
   "cell_type": "markdown",
   "id": "1cefad90-6734-4092-b880-d82ea001ebdc",
   "metadata": {},
   "source": [
    "- openai embedding\n",
    "- clip embedding"
   ]
  }
 ],
 "metadata": {
  "environment": {
   "kernel": "conda-base-py",
   "name": "workbench-notebooks.m125",
   "type": "gcloud",
   "uri": "us-docker.pkg.dev/deeplearning-platform-release/gcr.io/workbench-notebooks:m125"
  },
  "kernelspec": {
   "display_name": "Python 3 (ipykernel) (Local)",
   "language": "python",
   "name": "conda-base-py"
  },
  "language_info": {
   "codemirror_mode": {
    "name": "ipython",
    "version": 3
   },
   "file_extension": ".py",
   "mimetype": "text/x-python",
   "name": "python",
   "nbconvert_exporter": "python",
   "pygments_lexer": "ipython3",
   "version": "3.10.15"
  }
 },
 "nbformat": 4,
 "nbformat_minor": 5
}
