{
 "cells": [
  {
   "cell_type": "markdown",
   "id": "b184a96e-9905-4dbf-941c-136afcc33a26",
   "metadata": {},
   "source": [
    "# Notebook : LLM Capabilities\n"
   ]
  },
  {
   "cell_type": "code",
   "execution_count": null,
   "id": "4e9669a2-49fc-4b19-ab8d-98e42b8d94b0",
   "metadata": {},
   "outputs": [],
   "source": []
  }
 ],
 "metadata": {
  "environment": {
   "kernel": "conda-base-py",
   "name": "workbench-notebooks.m125",
   "type": "gcloud",
   "uri": "us-docker.pkg.dev/deeplearning-platform-release/gcr.io/workbench-notebooks:m125"
  },
  "kernelspec": {
   "display_name": "Python 3 (ipykernel) (Local)",
   "language": "python",
   "name": "conda-base-py"
  },
  "language_info": {
   "codemirror_mode": {
    "name": "ipython",
    "version": 3
   },
   "file_extension": ".py",
   "mimetype": "text/x-python",
   "name": "python",
   "nbconvert_exporter": "python",
   "pygments_lexer": "ipython3",
   "version": "3.10.15"
  }
 },
 "nbformat": 4,
 "nbformat_minor": 5
}
