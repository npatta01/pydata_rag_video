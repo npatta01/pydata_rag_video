{
 "cells": [
  {
   "cell_type": "markdown",
   "id": "288b71a2-9edf-4c43-a577-f94682a078e4",
   "metadata": {},
   "source": [
    "# Internal Notebook"
   ]
  },
  {
   "cell_type": "code",
   "execution_count": null,
   "id": "37424abc-182a-4b22-bddb-f3581273cfda",
   "metadata": {},
   "outputs": [],
   "source": []
  },
  {
   "cell_type": "code",
   "execution_count": null,
   "id": "d7f1aa06-ee8b-41d2-8ec0-02786ec70e9b",
   "metadata": {},
   "outputs": [],
   "source": []
  },
  {
   "cell_type": "markdown",
   "id": "0fb2980d-5d23-482d-8ce1-63353d57fc1c",
   "metadata": {},
   "source": [
    "## Merging Notebook"
   ]
  },
  {
   "cell_type": "markdown",
   "id": "1eba08bc-766c-4149-8b89-7985b685e2f0",
   "metadata": {},
   "source": [
    "It is annoying for attendess, to go through setup all the times.\n",
    "\n",
    "To ease, we will merge all notebooks"
   ]
  },
  {
   "cell_type": "code",
   "execution_count": null,
   "id": "d1ae0ac1-ed2b-4278-b274-818de6693699",
   "metadata": {},
   "outputs": [],
   "source": []
  },
  {
   "cell_type": "code",
   "execution_count": null,
   "id": "63bd008e-7e05-4c09-b102-1eb545b672d3",
   "metadata": {
    "tags": []
   },
   "outputs": [],
   "source": [
    "from nbformat import v4 as nbf\n"
   ]
  },
  {
   "cell_type": "code",
   "execution_count": null,
   "id": "efe6c75e-2f6d-42ae-92e2-90f1e96ff7f4",
   "metadata": {
    "tags": []
   },
   "outputs": [],
   "source": [
    "import nbformat\n",
    "from nbformat import v4 as nbf\n",
    "\n",
    "# List of notebook filenames you want to combine\n",
    "notebooks = [\"00_setup.ipynb\" ,\"01_why_rag.ipynb\", \"02_extracting_metadata.ipynb\" ,\"03_chunking.ipynb\" ,\"04_embeddings.ipynb\", \"05_llm_capabilities.ipynb\", \"06_full_e2e__notebook.ipynb\"]\n",
    "\n",
    "# Create a new notebook node\n",
    "merged_notebook = nbformat.v4.new_notebook()\n",
    "\n",
    "# Append cells from each notebook\n",
    "for notebook_filename in notebooks:\n",
    "    with open(notebook_filename) as f:\n",
    "        notebook = nbformat.read(f, as_version=4)\n",
    "        \n",
    "        #header_cell = nbf.new_markdown_cell(f\"\"\"# Notebook :  {notebook_filename}\"\"\")\n",
    "\n",
    "        #merged_notebook.cells.extend([header_cell])\n",
    "        merged_notebook.cells.extend(notebook.cells)\n",
    "\n",
    "# Save the merged notebook\n",
    "with open(\"pydata_workshop.ipynb\", \"w\") as f:\n",
    "    nbformat.write(merged_notebook, f)\n"
   ]
  },
  {
   "cell_type": "code",
   "execution_count": null,
   "id": "7215691f-85ce-4beb-b843-58a8eb8759d0",
   "metadata": {
    "tags": []
   },
   "outputs": [],
   "source": []
  },
  {
   "cell_type": "code",
   "execution_count": null,
   "id": "23be54dd-a8bf-43a7-a95a-8efb5ceb14cf",
   "metadata": {
    "tags": []
   },
   "outputs": [],
   "source": []
  },
  {
   "cell_type": "code",
   "execution_count": null,
   "id": "a542c0a0-e016-4b3c-8c75-2853a7c6d394",
   "metadata": {},
   "outputs": [],
   "source": []
  }
 ],
 "metadata": {
  "environment": {
   "kernel": "conda-base-py",
   "name": "workbench-notebooks.m125",
   "type": "gcloud",
   "uri": "us-docker.pkg.dev/deeplearning-platform-release/gcr.io/workbench-notebooks:m125"
  },
  "kernelspec": {
   "display_name": "Python 3 (ipykernel) (Local)",
   "language": "python",
   "name": "conda-base-py"
  },
  "language_info": {
   "codemirror_mode": {
    "name": "ipython",
    "version": 3
   },
   "file_extension": ".py",
   "mimetype": "text/x-python",
   "name": "python",
   "nbconvert_exporter": "python",
   "pygments_lexer": "ipython3",
   "version": "3.10.15"
  }
 },
 "nbformat": 4,
 "nbformat_minor": 5
}
